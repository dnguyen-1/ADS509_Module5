{
 "cells": [
  {
   "attachments": {},
   "cell_type": "markdown",
   "id": "bce2bb89",
   "metadata": {},
   "source": [
    "# ADS 509 Assignment 5.1: Topic Modeling\n",
    "\n",
    "This notebook holds Assignment 5.1 for Module 5 in ADS 509, Applied Text Mining. Work through this notebook, writing code and answering questions where required. \n",
    "\n",
    "In this assignment you will work with a categorical corpus that accompanies `nltk`. You will build the three types of topic models described in Chapter 8 of _Blueprints for Text Analytics using Python_: NMF, LSA, and LDA. You will compare these models to the true categories. \n"
   ]
  },
  {
   "attachments": {},
   "cell_type": "markdown",
   "id": "d87e2c06",
   "metadata": {},
   "source": [
    "## General Assignment Instructions\n",
    "\n",
    "These instructions are included in every assignment, to remind you of the coding standards for the class. Feel free to delete this cell after reading it. \n",
    "\n",
    "One sign of mature code is conforming to a style guide. We recommend the [Google Python Style Guide](https://google.github.io/styleguide/pyguide.html). If you use a different style guide, please include a cell with a link. \n",
    "\n",
    "Your code should be relatively easy-to-read, sensibly commented, and clean. Writing code is a messy process, so please be sure to edit your final submission. Remove any cells that are not needed or parts of cells that contain unnecessary code. Remove inessential `import` statements and make sure that all such statements are moved into the designated cell. \n",
    "\n",
    "Make use of non-code cells for written commentary. These cells should be grammatical and clearly written. In some of these cells you will have questions to answer. The questions will be marked by a \"Q:\" and will have a corresponding \"A:\" spot for you. *Make sure to answer every question marked with a `Q:` for full credit.* \n"
   ]
  },
  {
   "cell_type": "code",
   "execution_count": 23,
   "id": "a85bce08",
   "metadata": {},
   "outputs": [],
   "source": [
    "# These libraries may be useful to you\n",
    "\n",
    "#!pip install pyLDAvis  #You need to restart the Kernel after installation.\n",
    "# You also need a Python version => 3.9.0\n",
    "from nltk.corpus import brown\n",
    "\n",
    "import numpy as np\n",
    "import pandas as pd\n",
    "from tqdm.auto import tqdm\n",
    "\n",
    "import pyLDAvis\n",
    "import pyLDAvis.lda_model\n",
    "import pyLDAvis.gensim_models\n",
    "\n",
    "import spacy\n",
    "from sklearn.feature_extraction.text import TfidfVectorizer, CountVectorizer\n",
    "from sklearn.decomposition import NMF, TruncatedSVD, LatentDirichletAllocation\n",
    "\n",
    "from spacy.lang.en.stop_words import STOP_WORDS as stopwords\n",
    "import en_core_web_sm\n",
    "\n",
    "from collections import Counter, defaultdict\n",
    "\n",
    "nlp = en_core_web_sm.load()"
   ]
  },
  {
   "cell_type": "code",
   "execution_count": 40,
   "id": "a218df60",
   "metadata": {},
   "outputs": [],
   "source": [
    "# add any additional libraries you need here\n",
    "import nltk\n",
    "#nltk.download('brown')  #download if brown corpus is required\n",
    "from nltk.corpus import stopwords\n",
    "import re\n",
    "stop_words = set(stopwords.words('english'))"
   ]
  },
  {
   "cell_type": "code",
   "execution_count": 3,
   "id": "494de237",
   "metadata": {},
   "outputs": [],
   "source": [
    "# This function comes from the BTAP repo.\n",
    "def display_topics(model, features, no_top_words=5):\n",
    "    for topic, words in enumerate(model.components_):\n",
    "        total = words.sum()\n",
    "        largest = words.argsort()[::-1] # invert sort order\n",
    "        print(\"\\nTopic %02d\" % topic)\n",
    "        for i in range(0, no_top_words):\n",
    "            print(\"  %s (%2.2f)\" % (features[largest[i]], abs(words[largest[i]]*100.0/total)))"
   ]
  },
  {
   "attachments": {},
   "cell_type": "markdown",
   "id": "a30a901c",
   "metadata": {},
   "source": [
    "## Getting to Know the Brown Corpus\n",
    "\n",
    "Let's spend a bit of time getting to know what's in the Brown corpus, our NLTK example of an \"overlapping\" corpus."
   ]
  },
  {
   "cell_type": "code",
   "execution_count": 4,
   "id": "457c59ed",
   "metadata": {},
   "outputs": [
    {
     "name": "stdout",
     "output_type": "stream",
     "text": [
      "For adventure we have 29 articles.\n",
      "For belles_lettres we have 75 articles.\n",
      "For editorial we have 27 articles.\n",
      "For fiction we have 29 articles.\n",
      "For government we have 30 articles.\n",
      "For hobbies we have 36 articles.\n",
      "For humor we have 9 articles.\n",
      "For learned we have 80 articles.\n",
      "For lore we have 48 articles.\n",
      "For mystery we have 24 articles.\n",
      "For news we have 44 articles.\n",
      "For religion we have 17 articles.\n",
      "For reviews we have 17 articles.\n",
      "For romance we have 29 articles.\n",
      "For science_fiction we have 6 articles.\n"
     ]
    }
   ],
   "source": [
    "# categories of articles in Brown corpus\n",
    "for category in brown.categories() :\n",
    "    print(f\"For {category} we have {len(brown.fileids(categories=category))} articles.\")"
   ]
  },
  {
   "attachments": {},
   "cell_type": "markdown",
   "id": "23fb133c",
   "metadata": {},
   "source": [
    "Let's create a dataframe of the articles in of hobbies, editorial, government, news, and romance."
   ]
  },
  {
   "cell_type": "code",
   "execution_count": 5,
   "id": "18f50b9d",
   "metadata": {},
   "outputs": [
    {
     "data": {
      "text/plain": [
       "(166, 3)"
      ]
     },
     "execution_count": 5,
     "metadata": {},
     "output_type": "execute_result"
    }
   ],
   "source": [
    "categories = ['editorial','government','news','romance','hobbies'] \n",
    "\n",
    "category_list = []\n",
    "file_ids = []\n",
    "texts = []\n",
    "\n",
    "for category in categories : \n",
    "    for file_id in brown.fileids(categories=category) :\n",
    "        \n",
    "        # build some lists for a dataframe\n",
    "        category_list.append(category)\n",
    "        file_ids.append(file_id)\n",
    "        \n",
    "        text = brown.words(fileids=file_id)\n",
    "        texts.append(\" \".join(text))\n",
    "\n",
    "        \n",
    "df = pd.DataFrame()\n",
    "df['category'] = category_list\n",
    "df['id'] = file_ids\n",
    "df['text'] = texts \n",
    "\n",
    "df.shape"
   ]
  },
  {
   "cell_type": "code",
   "execution_count": 6,
   "id": "586f47de",
   "metadata": {},
   "outputs": [],
   "source": [
    "# Let's add some helpful columns on the df\n",
    "df['char_len'] = df['text'].apply(len)\n",
    "df['word_len'] = df['text'].apply(lambda x: len(x.split()))\n"
   ]
  },
  {
   "cell_type": "code",
   "execution_count": 7,
   "id": "2128fd2d",
   "metadata": {},
   "outputs": [
    {
     "data": {
      "text/plain": [
       "<Axes: xlabel='category'>"
      ]
     },
     "execution_count": 7,
     "metadata": {},
     "output_type": "execute_result"
    },
    {
     "data": {
      "image/png": "[encoded data removed]",
      "text/plain": [
       "<Figure size 1000x600 with 1 Axes>"
      ]
     },
     "metadata": {},
     "output_type": "display_data"
    }
   ],
   "source": [
    "%matplotlib inline\n",
    "df.groupby('category').agg({'word_len': 'mean'}).plot.bar(figsize=(10,6))"
   ]
  },
  {
   "attachments": {},
   "cell_type": "markdown",
   "id": "554ffeb5",
   "metadata": {},
   "source": [
    "Now do our TF-IDF and Count vectorizations."
   ]
  },
  {
   "cell_type": "code",
   "execution_count": 8,
   "id": "21a7d247",
   "metadata": {},
   "outputs": [
    {
     "data": {
      "text/plain": [
       "(166, 5073)"
      ]
     },
     "execution_count": 8,
     "metadata": {},
     "output_type": "execute_result"
    }
   ],
   "source": [
    "count_text_vectorizer = CountVectorizer(stop_words=stopwords.words(\"english\"), min_df=5, max_df=0.7) #updated stopwords list from nltk package\n",
    "count_text_vectors = count_text_vectorizer.fit_transform(df[\"text\"])\n",
    "count_text_vectors.shape"
   ]
  },
  {
   "cell_type": "code",
   "execution_count": 9,
   "id": "875deba9",
   "metadata": {},
   "outputs": [
    {
     "data": {
      "text/plain": [
       "(166, 5073)"
      ]
     },
     "execution_count": 9,
     "metadata": {},
     "output_type": "execute_result"
    }
   ],
   "source": [
    "tfidf_text_vectorizer = TfidfVectorizer(stop_words=stopwords.words(\"english\"), min_df=5, max_df=0.7) #updated stopwords list from nltk package\n",
    "tfidf_text_vectors = tfidf_text_vectorizer.fit_transform(df['text'])\n",
    "tfidf_text_vectors.shape"
   ]
  },
  {
   "attachments": {},
   "cell_type": "markdown",
   "id": "a1062b21",
   "metadata": {},
   "source": [
    "Q: What do the two data frames `count_text_vectors` and `tfidf_text_vectors` hold? \n",
    "\n",
    "A: The two dataframes 'count_text_vectors' and 'tfidf_text_vectors\" hold 2 different ways text can be converted to numeric vectors so that the corpus can be interpreted and used by machine learning models. 'Count_text_vectors' hold the count of words as they appear, and the 'tfidf_text_vectors' analyzes work relatives to other words in the corpus. The output represents the 166 documents across the 5 categories and 4941 words."
   ]
  },
  {
   "attachments": {},
   "cell_type": "markdown",
   "id": "f77c3f94",
   "metadata": {},
   "source": [
    "## Fitting a Non-Negative Matrix Factorization Model\n",
    "\n",
    "In this section the code to fit a five-topic NMF model has already been written. This code comes directly from the [BTAP repo](https://github.com/blueprints-for-text-analytics-python/blueprints-text), which will help you tremendously in the coming sections. "
   ]
  },
  {
   "cell_type": "code",
   "execution_count": 10,
   "id": "d28745a3",
   "metadata": {},
   "outputs": [],
   "source": [
    "nmf_text_model = NMF(n_components=5, random_state=314)\n",
    "W_text_matrix = nmf_text_model.fit_transform(tfidf_text_vectors)\n",
    "H_text_matrix = nmf_text_model.components_"
   ]
  },
  {
   "cell_type": "code",
   "execution_count": 11,
   "id": "a67185e7",
   "metadata": {},
   "outputs": [
    {
     "name": "stdout",
     "output_type": "stream",
     "text": [
      "\n",
      "Topic 00\n",
      "  mr (0.48)\n",
      "  president (0.43)\n",
      "  kennedy (0.41)\n",
      "  united (0.40)\n",
      "  khrushchev (0.38)\n",
      "\n",
      "Topic 01\n",
      "  said (0.78)\n",
      "  thought (0.38)\n",
      "  back (0.34)\n",
      "  man (0.34)\n",
      "  little (0.31)\n",
      "\n",
      "Topic 02\n",
      "  mrs (2.38)\n",
      "  mr (0.75)\n",
      "  said (0.71)\n",
      "  miss (0.48)\n",
      "  car (0.46)\n",
      "\n",
      "Topic 03\n",
      "  state (0.38)\n",
      "  development (0.35)\n",
      "  tax (0.32)\n",
      "  sales (0.29)\n",
      "  may (0.28)\n",
      "\n",
      "Topic 04\n",
      "  game (0.97)\n",
      "  league (0.70)\n",
      "  ball (0.69)\n",
      "  baseball (0.66)\n",
      "  team (0.63)\n"
     ]
    }
   ],
   "source": [
    "display_topics(nmf_text_model, tfidf_text_vectorizer.get_feature_names_out())"
   ]
  },
  {
   "attachments": {},
   "cell_type": "markdown",
   "id": "fee51e9b",
   "metadata": {},
   "source": [
    "Now some work for you to do. Compare the NMF categorization to the original categories from the Brown Corpus.\n",
    "\n",
    "We are interested in the extent to which our NMF categorization agrees or disagrees with the original categories in the corpus. For each topic in your NMF model, tally the Brown categories and interpret the results. \n"
   ]
  },
  {
   "cell_type": "code",
   "execution_count": 44,
   "id": "7c8c8eb0",
   "metadata": {},
   "outputs": [
    {
     "data": {
      "text/html": [
       "<div>\n",
       "<style scoped>\n",
       "    .dataframe tbody tr th:only-of-type {\n",
       "        vertical-align: middle;\n",
       "    }\n",
       "\n",
       "    .dataframe tbody tr th {\n",
       "        vertical-align: top;\n",
       "    }\n",
       "\n",
       "    .dataframe thead th {\n",
       "        text-align: right;\n",
       "    }\n",
       "</style>\n",
       "<table border=\"1\" class=\"dataframe\">\n",
       "  <thead>\n",
       "    <tr style=\"text-align: right;\">\n",
       "      <th></th>\n",
       "      <th>Word 1</th>\n",
       "      <th>Word 2</th>\n",
       "      <th>Word 3</th>\n",
       "      <th>Word 4</th>\n",
       "      <th>Word 5</th>\n",
       "    </tr>\n",
       "  </thead>\n",
       "  <tbody>\n",
       "    <tr>\n",
       "      <th>editorial</th>\n",
       "      <td>would</td>\n",
       "      <td>one</td>\n",
       "      <td>new</td>\n",
       "      <td>mr</td>\n",
       "      <td>american</td>\n",
       "    </tr>\n",
       "    <tr>\n",
       "      <th>government</th>\n",
       "      <td>state</td>\n",
       "      <td>year</td>\n",
       "      <td>states</td>\n",
       "      <td>may</td>\n",
       "      <td>1</td>\n",
       "    </tr>\n",
       "    <tr>\n",
       "      <th>hobbies</th>\n",
       "      <td>one</td>\n",
       "      <td>2</td>\n",
       "      <td>new</td>\n",
       "      <td>time</td>\n",
       "      <td>1</td>\n",
       "    </tr>\n",
       "    <tr>\n",
       "      <th>news</th>\n",
       "      <td>said</td>\n",
       "      <td>mrs</td>\n",
       "      <td>would</td>\n",
       "      <td>new</td>\n",
       "      <td>one</td>\n",
       "    </tr>\n",
       "    <tr>\n",
       "      <th>romance</th>\n",
       "      <td>said</td>\n",
       "      <td>would</td>\n",
       "      <td>could</td>\n",
       "      <td>one</td>\n",
       "      <td>like</td>\n",
       "    </tr>\n",
       "  </tbody>\n",
       "</table>\n",
       "</div>"
      ],
      "text/plain": [
       "           Word 1 Word 2  Word 3 Word 4    Word 5\n",
       "editorial   would    one     new     mr  american\n",
       "government  state   year  states    may         1\n",
       "hobbies       one      2     new   time         1\n",
       "news         said    mrs   would    new       one\n",
       "romance      said  would   could    one      like"
      ]
     },
     "execution_count": 44,
     "metadata": {},
     "output_type": "execute_result"
    }
   ],
   "source": [
    "# Your code here - finding top words in each category of the corpus\n",
    "\n",
    "#normalize and tokenize corpus\n",
    "def tokenize(text):\n",
    "    words = re.findall(r'\\b\\w+\\b', text.lower())\n",
    "    cleaned_text = [word for word in words if word not in stop_words]\n",
    "    return cleaned_text\n",
    "\n",
    "top_words_by_category = {}\n",
    "\n",
    "for category, group in df.groupby('category'):\n",
    "    all_words = []\n",
    "    for text in group['text']:\n",
    "        all_words.extend(tokenize(text))\n",
    "    word_counts = Counter(all_words)\n",
    "    top_words = word_counts.most_common(5)\n",
    "    top_words_by_category[category] = top_words\n",
    "    \n",
    "top_words_df"
   ]
  },
  {
   "attachments": {},
   "cell_type": "markdown",
   "id": "f8d4e2bc",
   "metadata": {},
   "source": [
    "Q: How does your five-topic NMF model compare to the original Brown categories? \n",
    "\n",
    "A: The five-topic NMP model slightly agree with the orginal brown categories.  Topic 04 aligns with hobbies, topic 00 and topic 03 could either be news or government, topic 01 aligns with editorial, and topic 02 with romance."
   ]
  },
  {
   "attachments": {},
   "cell_type": "markdown",
   "id": "82e37cb5",
   "metadata": {},
   "source": [
    "## Fitting an LSA Model\n",
    "\n",
    "In this section, follow the example from the repository and fit an LSA model (called a \"TruncatedSVD\" in `sklearn`). Again fit a five-topic model and compare it to the actual categories in the Brown corpus. Use the TF-IDF vectors for your fit, as above. \n",
    "\n",
    "To be explicit, we are once again interested in the extent to which this LSA factorization agrees or disagrees with the original categories in the corpus. For each topic in your model, tally the Brown categories and interpret the results. \n"
   ]
  },
  {
   "cell_type": "code",
   "execution_count": 13,
   "id": "00b53d3d",
   "metadata": {},
   "outputs": [],
   "source": [
    "# fitting an LSA model with truncatedSVD\n",
    "svd_para_model = TruncatedSVD(n_components=5, random_state=314)\n",
    "W_svd_para_matrix  = svd_para_model.fit_transform(tfidf_text_vectors)\n",
    "H_svd_para_matrix = svd_para_model.components_"
   ]
  },
  {
   "cell_type": "code",
   "execution_count": 14,
   "id": "8df833b0-d9fd-4f29-98ce-8d5193dd5356",
   "metadata": {},
   "outputs": [
    {
     "name": "stdout",
     "output_type": "stream",
     "text": [
      "\n",
      "Topic 00:\n",
      "said  mr  mrs  state  man\n",
      "\n",
      "Topic 01:\n",
      "said  thought  back  got  looked\n",
      "\n",
      "Topic 02:\n",
      "mrs  mr  said  jr  jury\n",
      "\n",
      "Topic 03:\n",
      "khrushchev  berlin  soviet  kennedy  laos\n",
      "\n",
      "Topic 04:\n",
      "game  league  baseball  ball  team\n"
     ]
    }
   ],
   "source": [
    "feature_names = tfidf_text_vectorizer.get_feature_names_out()\n",
    "\n",
    "for topic_idx, topic in enumerate(H_svd_para_matrix):\n",
    "    print(f\"\\nTopic 0{topic_idx}:\")\n",
    "    top_word_indices = topic.argsort()[::-1][:5]\n",
    "    top_words = [feature_names[i] for i in top_word_indices]\n",
    "    print(\"  \".join(top_words))"
   ]
  },
  {
   "attachments": {},
   "cell_type": "markdown",
   "id": "4d94d56f",
   "metadata": {},
   "source": [
    "Q: How does your five-topic LSA model compare to the original Brown categories? \n",
    "\n",
    "A: The five-topic LSA model agrees with the orginal categories from the Brown corpus."
   ]
  },
  {
   "cell_type": "code",
   "execution_count": 15,
   "id": "f1af0c88-43f7-45ca-8fb3-fc756585e8e4",
   "metadata": {},
   "outputs": [
    {
     "name": "stdout",
     "output_type": "stream",
     "text": [
      "\n",
      "Topic 00\n",
      "  said (0.41)\n",
      "  mr (0.23)\n",
      "  mrs (0.20)\n",
      "  state (0.19)\n",
      "  man (0.16)\n",
      "\n",
      "Topic 01\n",
      "  said (3.71)\n",
      "  thought (2.13)\n",
      "  back (1.90)\n",
      "  got (1.90)\n",
      "  looked (1.76)\n",
      "\n",
      "Topic 02\n",
      "  mrs (4.51)\n",
      "  mr (1.91)\n",
      "  said (1.47)\n",
      "  jr (0.88)\n",
      "  jury (0.85)\n",
      "\n",
      "Topic 03\n",
      "  khrushchev (3.00)\n",
      "  berlin (2.38)\n",
      "  soviet (2.25)\n",
      "  kennedy (2.25)\n",
      "  laos (2.07)\n",
      "\n",
      "Topic 04\n",
      "  game (4.95)\n",
      "  league (3.55)\n",
      "  baseball (3.47)\n",
      "  ball (3.36)\n",
      "  team (3.18)\n"
     ]
    }
   ],
   "source": [
    "display_topics(svd_para_model, tfidf_text_vectorizer.get_feature_names_out(), no_top_words=5)"
   ]
  },
  {
   "attachments": {},
   "cell_type": "markdown",
   "id": "ea8b280a",
   "metadata": {},
   "source": [
    "Q: What is your interpretation of the display topics output? \n",
    "\n",
    "A: They are slighly different from each other; the LSA model provided more detailed workd in topic 03; which looks like the government category."
   ]
  },
  {
   "attachments": {},
   "cell_type": "markdown",
   "id": "b4ab4d29",
   "metadata": {},
   "source": [
    "## Fitting an LDA Model\n",
    "\n",
    "Finally, fit a five-topic LDA model using the count vectors (`count_text_vectors` from above). Display the results using `pyLDAvis.display` and describe what you learn from that visualization. "
   ]
  },
  {
   "cell_type": "code",
   "execution_count": 30,
   "id": "802cb8ff",
   "metadata": {},
   "outputs": [],
   "source": [
    "# Fit your LDA model here\n",
    "lda_para_model = LatentDirichletAllocation(n_components = 5, random_state=42)\n",
    "W_lda_para_matrix = lda_para_model.fit_transform(count_text_vectors)\n",
    "H_lda_para_matrix = lda_para_model.components_"
   ]
  },
  {
   "cell_type": "code",
   "execution_count": 31,
   "id": "ab18adf5",
   "metadata": {},
   "outputs": [
    {
     "name": "stdout",
     "output_type": "stream",
     "text": [
      "\n",
      "Topic 00\n",
      "  may (0.89)\n",
      "  state (0.87)\n",
      "  states (0.73)\n",
      "  use (0.57)\n",
      "  united (0.54)\n",
      "\n",
      "Topic 01\n",
      "  mrs (1.37)\n",
      "  feed (0.70)\n",
      "  per (0.49)\n",
      "  house (0.44)\n",
      "  pool (0.41)\n",
      "\n",
      "Topic 02\n",
      "  mr (0.60)\n",
      "  president (0.51)\n",
      "  american (0.44)\n",
      "  world (0.42)\n",
      "  united (0.40)\n",
      "\n",
      "Topic 03\n",
      "  said (1.31)\n",
      "  state (0.60)\n",
      "  000 (0.54)\n",
      "  business (0.54)\n",
      "  sales (0.44)\n",
      "\n",
      "Topic 04\n",
      "  said (1.24)\n",
      "  back (0.60)\n",
      "  old (0.50)\n",
      "  little (0.49)\n",
      "  man (0.45)\n"
     ]
    }
   ],
   "source": [
    "# Call `display_topics` on your fitted model \n",
    "display_topics(lda_para_model, count_text_vectorizer.get_feature_names_out(), no_top_words=5)"
   ]
  },
  {
   "attachments": {},
   "cell_type": "markdown",
   "id": "f2c67876",
   "metadata": {},
   "source": [
    "Q: What inference do you draw from the displayed topics for your LDA model? \n",
    "A: The top five words were not as defined as the LSA model.\n",
    "\n",
    "Q: Repeat the tallying of Brown categories within your topics. How does your five-topic LDA model compare to the original Brown categories? \n",
    "\n",
    "A: Not complete."
   ]
  },
  {
   "cell_type": "code",
   "execution_count": 32,
   "id": "6aae75ca",
   "metadata": {},
   "outputs": [],
   "source": [
    "lda_display = pyLDAvis.lda_model.prepare(lda_para_model, count_text_vectors, count_text_vectorizer, sort_topics=False)"
   ]
  },
  {
   "cell_type": "code",
   "execution_count": 33,
   "id": "2a89fc15",
   "metadata": {},
   "outputs": [
    {
     "data": {
      "text/html": [
       "\n",
       "<link rel=\"stylesheet\" type=\"text/css\" href=\"https://cdn.jsdelivr.net/gh/bmabey/pyLDAvis@3.4.0/pyLDAvis/js/ldavis.v1.0.0.css\">\n",
       "\n",
       "\n",
       "<div id=\"ldavis_el257812983191248293593161\" style=\"background-color:white;\"></div>\n",
       "<script type=\"text/javascript\">\n",
       "\n",
       "var ldavis_el257812983191248293593161_data = {\"mdsDat\": {\"x\": [0.1683839598451318, -0.06016239416965193, 9.901136730349359e-05, 0.09209332804500134, -0.20041390508778467], \"y\": [-0.030984848267227295, -0.1628206571391913, 0.061276233031372515, 0.07513083566791731, 0.05739843670712873], \"topics\": [1, 2, 3, 4, 5], \"cluster\": [1, 1, 1, 1, 1], \"Freq\": [17.551053339232055, 9.298680436983963, 30.723813612287643, 16.540749085664004, 25.885703525832326]}, \"tinfo\": {\"Term\": [\"said\", \"mrs\", \"state\", \"states\", \"united\", \"feed\", \"may\", \"tax\", \"per\", \"fiscal\", \"sales\", \"president\", \"development\", \"back\", \"shall\", \"000\", \"use\", \"got\", \"business\", \"mr\", \"house\", \"company\", \"pool\", \"court\", \"program\", \"million\", \"used\", \"little\", \"mother\", \"old\", \"ratio\", \"objectives\", \"rico\", \"puerto\", \"thickness\", \"measurements\", \"quantity\", \"thereof\", \"measurement\", \"determining\", \"boats\", \"fiscal\", \"limitations\", \"transport\", \"operational\", \"respectively\", \"drill\", \"facility\", \"appropriated\", \"fig\", \"af\", \"comprehensive\", \"ample\", \"location\", \"minimize\", \"lever\", \"towns\", \"file\", \"advantages\", \"involves\", \"clay\", \"minimum\", \"determine\", \"tool\", \"rhode\", \"shall\", \"site\", \"boat\", \"india\", \"interference\", \"stations\", \"recreation\", \"medical\", \"available\", \"payment\", \"property\", \"pieces\", \"purposes\", \"development\", \"states\", \"use\", \"may\", \"state\", \"act\", \"section\", \"inch\", \"planning\", \"used\", \"tax\", \"amount\", \"united\", \"island\", \"local\", \"system\", \"service\", \"cost\", \"water\", \"must\", \"government\", \"program\", \"number\", \"department\", \"area\", \"000\", \"panels\", \"feed\", \"fruit\", \"jane\", \"oriental\", \"installation\", \"entertain\", \"cattle\", \"cooled\", \"artist\", \"rated\", \"spice\", \"chef\", \"painter\", \"builder\", \"cooling\", \"foundation\", \"gate\", \"palace\", \"patterned\", \"cream\", \"lumber\", \"painted\", \"artists\", \"plastic\", \"temple\", \"column\", \"salt\", \"heating\", \"entrance\", \"roof\", \"signs\", \"pool\", \"chemical\", \"mrs\", \"designs\", \"materials\", \"design\", \"outdoor\", \"daily\", \"sign\", \"heat\", \"engineer\", \"wall\", \"per\", \"oil\", \"handling\", \"built\", \"house\", \"add\", \"level\", \"men\", \"work\", \"best\", \"less\", \"way\", \"name\", \"good\", \"side\", \"may\", \"board\", \"head\", \"water\", \"home\", \"much\", \"high\", \"use\", \"used\", \"right\", \"soviet\", \"nations\", \"khrushchev\", \"berlin\", \"junior\", \"faculty\", \"laos\", \"rayburn\", \"congo\", \"cuba\", \"russian\", \"moscow\", \"russia\", \"academic\", \"communism\", \"fallout\", \"castro\", \"premier\", \"shelter\", \"communists\", \"editorial\", \"democrats\", \"independence\", \"katanga\", \"cuban\", \"nuclear\", \"communist\", \"bombs\", \"africa\", \"teachers\", \"corps\", \"crisis\", \"peace\", \"political\", \"speaker\", \"china\", \"kennedy\", \"editor\", \"east\", \"students\", \"president\", \"student\", \"college\", \"war\", \"american\", \"question\", \"mr\", \"world\", \"members\", \"schools\", \"united\", \"people\", \"west\", \"country\", \"committee\", \"public\", \"party\", \"must\", \"may\", \"states\", \"us\", \"week\", \"government\", \"great\", \"state\", \"today\", \"university\", \"national\", \"program\", \"last\", \"man\", \"school\", \"day\", \"service\", \"city\", \"motors\", \"atlanta\", \"stockholders\", \"farmers\", \"wildlife\", \"payroll\", \"bid\", \"superintendent\", \"hughes\", \"jury\", \"acres\", \"jones\", \"police\", \"bankers\", \"corp\", \"commissioner\", \"ruling\", \"spokesman\", \"bond\", \"exempt\", \"pension\", \"bonds\", \"acre\", \"conspiracy\", \"textile\", \"attorneys\", \"inventories\", \"consumer\", \"shares\", \"davis\", \"stocks\", \"retail\", \"sales\", \"dallas\", \"court\", \"machinery\", \"automobile\", \"driver\", \"billion\", \"corporation\", \"company\", \"traffic\", \"farm\", \"hospital\", \"million\", \"industry\", \"business\", \"cent\", \"trust\", \"equipment\", \"market\", \"said\", \"county\", \"texas\", \"000\", \"general\", \"stock\", \"tax\", \"management\", \"production\", \"1959\", \"state\", \"city\", \"federal\", \"plan\", \"1960\", \"bill\", \"per\", \"national\", \"mr\", \"last\", \"president\", \"government\", \"10\", \"program\", \"1961\", \"home\", \"small\", \"ball\", \"player\", \"baseball\", \"hair\", \"baby\", \"clothes\", \"nice\", \"yards\", \"cousin\", \"susan\", \"yankees\", \"pink\", \"smiled\", \"mother\", \"guy\", \"beside\", \"tiny\", \"vernon\", \"charlie\", \"waited\", \"dave\", \"shoes\", \"rain\", \"pair\", \"fingers\", \"hell\", \"hits\", \"horses\", \"pittsburgh\", \"luck\", \"sat\", \"runs\", \"boy\", \"drove\", \"looked\", \"birds\", \"got\", \"game\", \"walked\", \"straight\", \"thought\", \"went\", \"team\", \"games\", \"woman\", \"knew\", \"eyes\", \"back\", \"turned\", \"seemed\", \"little\", \"came\", \"room\", \"old\", \"sun\", \"said\", \"know\", \"never\", \"something\", \"around\", \"away\", \"night\", \"door\", \"man\", \"get\", \"go\", \"left\", \"good\", \"look\", \"come\", \"way\", \"home\", \"last\", \"day\", \"much\", \"see\", \"still\", \"right\", \"three\", \"take\"], \"Freq\": [792.0, 299.0, 488.0, 334.0, 302.0, 94.0, 485.0, 176.0, 213.0, 110.0, 117.0, 296.0, 200.0, 287.0, 127.0, 281.0, 254.0, 147.0, 210.0, 387.0, 230.0, 139.0, 76.0, 107.0, 232.0, 129.0, 191.0, 238.0, 97.0, 253.0, 19.27794410751001, 18.322962546431935, 19.142123403935287, 19.141643338024252, 13.551974110883116, 12.597484108017804, 13.490052861942857, 11.645908176270211, 11.643717567112146, 11.633273712737346, 36.57714813041913, 102.96169242283452, 9.731975561633677, 8.780365617732908, 8.771106740574723, 8.759594994816458, 30.68224954140755, 7.818855372401443, 7.814357635463501, 28.669731480212757, 67.38912199062591, 6.868234271093851, 6.868117056725556, 26.43450337836102, 7.675062629658006, 14.465438877392947, 30.603490391208183, 45.9416296014255, 12.717046524107728, 5.9163466484201335, 70.67692889250817, 29.670346534072404, 42.18302094787795, 26.34607715120359, 70.8019278551982, 101.38137421900039, 43.338989026019036, 35.265387333292296, 31.26846275141336, 30.329004291892375, 47.60012562436323, 30.17532501432151, 76.41672132633195, 86.9387519190393, 33.73635822937792, 67.65663493710235, 40.742397026936004, 34.28721803212463, 121.45620087295411, 174.7826885583697, 135.91103474985053, 212.65818043106052, 209.25700619054956, 78.02281115152357, 54.906798157485134, 47.40537072389796, 55.3792241991653, 97.18150850829633, 91.14191673761941, 54.316798277507004, 128.66805542578638, 67.40899301610997, 69.1593424453826, 66.33702251646834, 79.38403007215852, 59.40747674236229, 68.36115821244952, 89.79871922764366, 83.7453550524195, 75.19069400405444, 60.442316445099706, 62.795322625244005, 60.25429038666868, 62.95938355631296, 31.427097539216177, 88.84528047520374, 10.4583104592467, 8.60597082401369, 7.675120072823754, 7.674103053470214, 7.670951566905899, 18.686861730607163, 5.799538502677147, 14.862504443011685, 6.599422675539946, 6.532565976820855, 5.6487417346443545, 9.6533619232567, 20.854109070140414, 31.20330402135049, 27.89408089488913, 9.53748043630688, 14.271475711744209, 4.752608546597147, 10.274748214874592, 24.39797272327817, 14.10626492540331, 13.316445972048458, 21.02806246374486, 15.544434323138134, 13.846751913646564, 15.346280568553466, 17.60202751204485, 17.65271137072827, 23.542409765212078, 27.494518526655675, 51.70468203306083, 20.689870978293065, 173.83015842314313, 14.997571297330836, 31.659722652701756, 42.62661205865073, 15.553103372319596, 32.098939605042055, 33.59362675114467, 25.744807443094068, 21.644285464276248, 34.61322256524737, 61.68294748727591, 22.605499944006798, 17.42442057571001, 22.74353807097125, 56.40866593882134, 24.67055214867854, 30.408212681712094, 43.983766555178576, 47.44046633663277, 34.05414278205681, 33.16557159112478, 40.5910551451509, 28.066855318080712, 38.62547509803668, 29.81801333240466, 42.40197081274493, 32.53335867258972, 30.48562232397437, 30.803131719446945, 33.37347864733354, 31.968684939589256, 30.56345176357789, 30.976411070703175, 29.744940996471772, 29.124733028610432, 79.96078201152788, 78.9639668969924, 72.17961119401755, 64.39044304500254, 64.31556423604415, 52.7044813593351, 49.8039068601672, 45.91392657343297, 42.87458259098475, 37.15729469204949, 36.18216299585733, 37.13243813130702, 43.66734485843563, 29.37566118955319, 28.39413971499333, 30.245744512180362, 29.26091478434389, 24.501419754129373, 58.38288189236129, 23.53976647325767, 23.539187456731817, 23.538837172560253, 28.24095571686115, 19.64893037615901, 20.56587927535833, 75.62524716064202, 70.97040175216505, 18.66835017845794, 17.701567539601715, 33.54566151499771, 72.97611557715392, 28.74106438866819, 101.47126818107733, 76.31012676050688, 39.068962385089335, 32.19455344474661, 111.2476197558953, 47.67237583235408, 81.631157534773, 63.01665630957421, 214.80659655446212, 64.52201475953841, 99.53858002601392, 113.61618435031446, 186.5096209181598, 70.60839920774538, 252.60184005885012, 175.87057536765053, 105.84419353259588, 73.54807236695414, 167.89298016845916, 148.42102796866132, 79.12631019229549, 96.65338231712406, 80.76276044256753, 113.81595074878324, 77.93346642063081, 136.75889761371633, 164.49760893370285, 136.21223835160393, 94.97156116096866, 99.91203823833882, 116.64376288763589, 99.57860610970556, 136.1030797630124, 89.6686070637292, 82.44847566892456, 94.42425408567385, 94.8731370352644, 99.8592628909117, 96.01379428682382, 87.45912062711388, 91.95695682850952, 82.58121407406773, 82.50681285756926, 45.18238623151309, 22.199044960419545, 20.29208610944725, 17.414772263617056, 16.46075720416584, 14.548152744730285, 13.582619513532586, 12.633360380532688, 23.436149501792993, 44.994231297877796, 29.66193294443807, 28.683048479200522, 42.934992353675995, 10.721230392017473, 10.712697887682765, 15.153592558502739, 9.74224293904649, 8.805884862149554, 13.21201103370632, 8.803153424696548, 8.80234329154013, 29.80703942750523, 7.842506051333737, 16.404497207735616, 25.862861107476704, 6.889738763977008, 6.88752746020647, 17.9250359700673, 33.16027500088328, 11.90497155223637, 13.58567171843241, 15.226731351120256, 99.61911968317814, 48.841865844436434, 85.9612789795824, 28.50761433609333, 20.691534533679285, 24.213438199423287, 43.34646457899545, 27.66187361773592, 97.3078041875992, 32.98185363316767, 31.294918129869757, 48.13774726040237, 83.89743006369322, 65.30491732991445, 121.31111446444002, 52.32368974281118, 30.209400799133615, 66.45789246481893, 60.93680232221819, 294.61897339615524, 63.86240701764129, 41.19601221422932, 121.4531738837759, 94.79001945861087, 49.251557173029006, 84.53661563680333, 50.318660093939435, 50.29152103296971, 41.78645466256826, 136.53855552137648, 83.47198965097263, 58.540790783199135, 59.14520293715386, 61.249544479912906, 51.613308794864814, 75.22650151975739, 73.70506473280896, 82.29075128951116, 76.83537851502464, 68.16087199840224, 66.89399782013659, 56.4749516142927, 61.55665434580756, 52.216877296665665, 54.8669402348869, 52.26052766592811, 62.61624515243461, 47.989912123377415, 39.208834895889055, 35.30821023286345, 35.30327717894674, 32.27032579531762, 27.499122652478476, 26.52743884145361, 26.524733940603937, 26.50538266364354, 25.54810566763965, 25.54362919891027, 26.42366257905692, 94.31090599407412, 22.61880232922834, 21.646220912849255, 20.652513385760873, 19.66536372475232, 18.725875906750023, 18.725614455981013, 18.72405585977765, 18.70554784854264, 18.70474051410762, 17.733206132673605, 17.72415357389395, 15.80103782318047, 15.794342362860636, 15.787713615752875, 15.776984162335397, 15.77050781358446, 36.16557756795983, 38.68949153241464, 77.42260056560009, 17.62289258809587, 78.50611436968268, 30.16929452942481, 130.6342251554028, 81.967243035877, 44.07731522742619, 41.476115717287136, 120.77939329265006, 118.20444654297359, 51.95523404766517, 29.25286139202555, 50.20220706883412, 78.29173946030215, 82.97425457510799, 213.48146231144156, 66.7745537472171, 63.63586202040276, 173.3359899075396, 122.2375728154621, 82.42016357236207, 177.0740866663416, 47.59142491743624, 436.6464348290182, 132.28259921056423, 135.04543935531478, 86.46082764876286, 112.6575952814112, 89.83397516876353, 102.31299125049885, 57.7618438132673, 160.24903236766224, 145.74586496279574, 119.20538794652879, 107.00059123679809, 156.6615419790802, 88.8620521777038, 107.2730881804487, 129.9452952390831, 126.24056925978209, 131.29285075156255, 126.34673397849122, 116.51119000600512, 107.44635362880015, 102.38354113483582, 98.1666481028006, 94.005881457022, 91.57153650532798], \"Total\": [792.0, 299.0, 488.0, 334.0, 302.0, 94.0, 485.0, 176.0, 213.0, 110.0, 117.0, 296.0, 200.0, 287.0, 127.0, 281.0, 254.0, 147.0, 210.0, 387.0, 230.0, 139.0, 76.0, 107.0, 232.0, 129.0, 191.0, 238.0, 97.0, 253.0, 20.051081518916277, 19.096459092199492, 20.053577739909755, 20.053586914105175, 14.32346711909491, 13.368852487700885, 14.324700756500416, 12.414311160698341, 12.414324935760373, 12.414480725170932, 39.15909067555298, 110.81433660625542, 10.50519970857258, 9.550542105643787, 9.550745642641443, 9.550930092886794, 33.4554096916096, 8.59596163170825, 8.596210372272413, 31.550965670811653, 74.34173575558619, 7.641441298974104, 7.641427211597215, 29.585810732038148, 8.598109544204123, 16.235569869619386, 34.404437800465466, 51.65074919897155, 14.339411864027236, 6.686805407472191, 81.21991759154471, 34.44443368064086, 49.738829693951494, 30.56918002133647, 86.01759921608362, 127.38155337805928, 52.42328098829515, 42.13242627566578, 37.28640564837858, 36.31250480704715, 59.39511458072092, 36.380461654485664, 101.26629054284979, 120.40512068546919, 42.02805897545586, 95.58603803038532, 52.662521404410185, 42.97830385466858, 200.36295452717474, 334.8394918218565, 254.6559483778037, 485.9388975993246, 488.7909989333045, 131.3674918614442, 82.97713471692467, 67.77740489843178, 85.17981283146148, 191.5720716068827, 176.8562892161299, 83.28760805294878, 302.9209779526812, 119.83160889774925, 129.4602920710661, 143.03689995777702, 206.01087927825353, 116.17977987062565, 161.87204680449264, 329.234456069855, 276.46286927412024, 232.0066728797327, 136.92020625815454, 157.61339974905806, 146.13781357381754, 281.13825964073857, 32.805182509998474, 94.76753986818152, 11.259631548665675, 9.38626094373458, 8.449803065667979, 8.449808302899998, 8.44997244937745, 20.66730797884372, 6.577254534327372, 16.924684547791383, 7.5183689971870145, 7.521388288274927, 6.583187168736792, 11.290457586013776, 24.448206459249892, 36.69751621566104, 32.90836368810228, 11.277230590508939, 16.94439853539487, 5.645558814844765, 12.242868377250115, 29.19230290511851, 16.956917442139904, 16.013079895802242, 25.44275047886832, 18.84370605997297, 16.9500791136556, 18.839458434200218, 21.62011479992444, 21.68725412940718, 29.23627493801612, 35.84718512939133, 76.39596219443901, 27.301669938714586, 299.73162564692103, 19.789872105474732, 51.05135369988832, 74.79350713600549, 20.785290321185297, 53.158469439236505, 56.8661192804336, 41.682101003944126, 33.04594246357363, 65.65354462578183, 213.24175978253737, 39.74311387025543, 25.499620362504608, 41.74141179148429, 230.68408993483695, 49.46161707307338, 83.70703529527871, 192.6721542167631, 258.5077299220563, 138.5754890033723, 134.20053188044102, 274.48356007763624, 85.50975484985085, 307.54783132123714, 114.30142544222326, 485.9388975993246, 174.29895974765802, 134.863532834204, 161.87204680449264, 265.517134513712, 280.20901306558414, 218.49459455576192, 254.6559483778037, 191.5720716068827, 213.51400315766662, 80.7271685413273, 79.75399688608252, 72.94495041137561, 65.16259440276241, 65.1600215447846, 53.48899425447184, 50.57099907891627, 46.679896753729764, 43.759640911596016, 37.924855932090814, 36.95205624033608, 37.92445164796123, 44.72956212653718, 30.142615870587136, 29.169684783283248, 31.111596778827046, 30.140816655128347, 25.278566439869792, 60.2800488217626, 24.30596750685775, 24.305948087187375, 24.305955079852904, 29.166812184331715, 20.41485666821533, 21.386701893244158, 78.73691126944335, 73.90227915386897, 19.441849925212008, 18.469251773014186, 35.00836774967335, 76.79709058841918, 30.132646996504945, 110.8863015351702, 83.54001192028004, 41.78455074069085, 34.036659981050676, 131.0052719304742, 52.509955691128845, 95.14059225644162, 71.79139211409948, 296.3168679341068, 74.81185191758594, 125.4360554595203, 146.60354083563655, 263.80467979950083, 84.51397948335394, 387.3104214504379, 256.07578785185177, 141.25932137264144, 92.15316642116247, 302.9209779526812, 265.90575413242107, 106.61910990333872, 145.10270252905065, 110.41714435257558, 201.7129508875556, 108.55499075071586, 329.234456069855, 485.9388975993246, 334.8394918218565, 165.30555694524622, 189.39612071507693, 276.46286927412024, 202.36983780863125, 488.7909989333045, 159.2788212959367, 124.65120663175979, 215.1005772605564, 232.0066728797327, 327.3281064715791, 281.84367988860106, 172.20760264166788, 302.72077734834573, 206.01087927825353, 214.21795438778963, 45.95391266141084, 22.978085260432014, 21.063312977767147, 18.191273710692993, 17.233939057935846, 15.319284637883715, 14.362093160223129, 13.404623577831817, 24.9035971675015, 47.908342530466655, 31.615674891389478, 30.658450300505955, 45.99018258504975, 11.489947031104064, 11.489919788735822, 16.283301204190412, 10.533009129831468, 9.575280494744574, 14.36809138292668, 9.575279649754236, 9.575275148597902, 32.55505480634935, 8.617849491034958, 18.21045621212715, 28.71924401128435, 7.66064748563676, 7.660581313113947, 20.075178822303968, 37.337918422680076, 13.416083718325764, 15.316503068537845, 17.20690122308439, 117.78193044587974, 58.389515530854986, 107.35041785108137, 33.560679580788424, 23.928572562097095, 28.682924502366316, 54.738554566961604, 33.491690272258346, 139.00159379789662, 41.26278864685201, 39.37564393313923, 66.27446048442675, 129.6095307207234, 96.49175917243306, 210.51067817545072, 75.02955413748242, 38.41352489954308, 104.93760651666209, 95.75196016951053, 792.9850580094858, 103.91828654962603, 58.648916564098556, 281.13825964073857, 200.93729594069583, 77.70758049646841, 176.8562892161299, 84.85746188900632, 84.99927984318026, 63.23743545731426, 488.7909989333045, 214.21795438778963, 114.0333712612518, 119.59335945186841, 129.46840445983133, 92.61426235089154, 213.24175978253737, 215.1005772605564, 387.3104214504379, 327.3281064715791, 296.3168679341068, 276.46286927412024, 145.39566202359018, 232.0066728797327, 115.04750768633447, 265.517134513712, 210.47397657397264, 63.38590079531267, 48.7547440591407, 39.975953683338616, 36.07425129479082, 36.07416594510998, 33.14357711942873, 28.270841099527463, 27.29546805653525, 27.295392537458355, 27.295363198188383, 26.320030272277602, 26.319763482138786, 27.295260294881807, 97.43754095356542, 23.393631616543814, 22.418328507586462, 21.442768712883634, 20.46680919945554, 19.492189360335033, 19.49218420604242, 19.492146771803245, 19.492079893692452, 19.491776427422376, 18.516229223575355, 18.516114615862538, 16.565943264723096, 16.56576728959039, 16.5656533818147, 16.565709261886017, 16.56571375091201, 38.02202428481078, 40.893966309929205, 82.77717746901206, 18.51436254698627, 85.68908967000829, 32.16452621198168, 147.07508496597876, 90.55631777943019, 47.661568148605035, 44.79478683038126, 140.18708790498147, 137.33759783535243, 57.43461917970467, 31.19393038180767, 55.569829548020834, 90.53228125886181, 98.27147165506466, 287.3172943076556, 78.88468981778526, 75.01920021521819, 238.3547671737927, 162.3187574611818, 102.85511294744626, 253.70361627666426, 54.51755361229262, 792.9850580094858, 191.60457525415552, 197.51907544683584, 114.97533298326923, 164.02569805426114, 123.41542226413956, 151.34023899215921, 69.90801591863507, 281.84367988860106, 248.80000500784885, 188.41704188192523, 162.10109354012056, 307.54783132123714, 130.07153760032486, 185.40498716258543, 274.48356007763624, 265.517134513712, 327.3281064715791, 302.72077734834573, 280.20901306558414, 229.47458327864558, 204.31414902729884, 213.51400315766662, 249.04840858974018, 233.16954320074984], \"Category\": [\"Default\", \"Default\", \"Default\", \"Default\", \"Default\", \"Default\", \"Default\", \"Default\", \"Default\", \"Default\", \"Default\", \"Default\", \"Default\", \"Default\", \"Default\", \"Default\", \"Default\", \"Default\", \"Default\", \"Default\", \"Default\", \"Default\", \"Default\", \"Default\", \"Default\", \"Default\", \"Default\", \"Default\", \"Default\", \"Default\", \"Topic1\", \"Topic1\", \"Topic1\", \"Topic1\", \"Topic1\", \"Topic1\", \"Topic1\", \"Topic1\", \"Topic1\", \"Topic1\", \"Topic1\", \"Topic1\", \"Topic1\", \"Topic1\", \"Topic1\", \"Topic1\", \"Topic1\", \"Topic1\", \"Topic1\", \"Topic1\", \"Topic1\", \"Topic1\", \"Topic1\", \"Topic1\", \"Topic1\", \"Topic1\", \"Topic1\", \"Topic1\", \"Topic1\", \"Topic1\", \"Topic1\", \"Topic1\", \"Topic1\", \"Topic1\", \"Topic1\", \"Topic1\", \"Topic1\", \"Topic1\", \"Topic1\", \"Topic1\", \"Topic1\", \"Topic1\", \"Topic1\", \"Topic1\", \"Topic1\", \"Topic1\", \"Topic1\", \"Topic1\", \"Topic1\", \"Topic1\", \"Topic1\", \"Topic1\", \"Topic1\", \"Topic1\", \"Topic1\", \"Topic1\", \"Topic1\", \"Topic1\", \"Topic1\", \"Topic1\", \"Topic1\", \"Topic1\", \"Topic1\", \"Topic1\", \"Topic1\", \"Topic1\", \"Topic1\", \"Topic1\", \"Topic1\", \"Topic1\", \"Topic1\", \"Topic1\", \"Topic1\", \"Topic1\", \"Topic2\", \"Topic2\", \"Topic2\", \"Topic2\", \"Topic2\", \"Topic2\", \"Topic2\", \"Topic2\", \"Topic2\", \"Topic2\", \"Topic2\", \"Topic2\", \"Topic2\", \"Topic2\", \"Topic2\", \"Topic2\", \"Topic2\", \"Topic2\", \"Topic2\", \"Topic2\", \"Topic2\", \"Topic2\", \"Topic2\", \"Topic2\", \"Topic2\", \"Topic2\", \"Topic2\", \"Topic2\", \"Topic2\", \"Topic2\", \"Topic2\", \"Topic2\", \"Topic2\", \"Topic2\", \"Topic2\", \"Topic2\", \"Topic2\", \"Topic2\", \"Topic2\", \"Topic2\", \"Topic2\", \"Topic2\", \"Topic2\", \"Topic2\", \"Topic2\", \"Topic2\", \"Topic2\", \"Topic2\", \"Topic2\", \"Topic2\", \"Topic2\", \"Topic2\", \"Topic2\", \"Topic2\", \"Topic2\", \"Topic2\", \"Topic2\", \"Topic2\", \"Topic2\", \"Topic2\", \"Topic2\", \"Topic2\", \"Topic2\", \"Topic2\", \"Topic2\", \"Topic2\", \"Topic2\", \"Topic2\", \"Topic2\", \"Topic3\", \"Topic3\", \"Topic3\", \"Topic3\", \"Topic3\", \"Topic3\", \"Topic3\", \"Topic3\", \"Topic3\", \"Topic3\", \"Topic3\", \"Topic3\", \"Topic3\", \"Topic3\", \"Topic3\", \"Topic3\", \"Topic3\", \"Topic3\", \"Topic3\", \"Topic3\", \"Topic3\", \"Topic3\", \"Topic3\", \"Topic3\", \"Topic3\", \"Topic3\", \"Topic3\", \"Topic3\", \"Topic3\", \"Topic3\", \"Topic3\", \"Topic3\", \"Topic3\", \"Topic3\", \"Topic3\", \"Topic3\", \"Topic3\", \"Topic3\", \"Topic3\", \"Topic3\", \"Topic3\", \"Topic3\", \"Topic3\", \"Topic3\", \"Topic3\", \"Topic3\", \"Topic3\", \"Topic3\", \"Topic3\", \"Topic3\", \"Topic3\", \"Topic3\", \"Topic3\", \"Topic3\", \"Topic3\", \"Topic3\", \"Topic3\", \"Topic3\", \"Topic3\", \"Topic3\", \"Topic3\", \"Topic3\", \"Topic3\", \"Topic3\", \"Topic3\", \"Topic3\", \"Topic3\", \"Topic3\", \"Topic3\", \"Topic3\", \"Topic3\", \"Topic3\", \"Topic3\", \"Topic3\", \"Topic3\", \"Topic4\", \"Topic4\", \"Topic4\", \"Topic4\", \"Topic4\", \"Topic4\", \"Topic4\", \"Topic4\", \"Topic4\", \"Topic4\", \"Topic4\", \"Topic4\", \"Topic4\", \"Topic4\", \"Topic4\", \"Topic4\", \"Topic4\", \"Topic4\", \"Topic4\", \"Topic4\", \"Topic4\", \"Topic4\", \"Topic4\", \"Topic4\", \"Topic4\", \"Topic4\", \"Topic4\", \"Topic4\", \"Topic4\", \"Topic4\", \"Topic4\", \"Topic4\", \"Topic4\", \"Topic4\", \"Topic4\", \"Topic4\", \"Topic4\", \"Topic4\", \"Topic4\", \"Topic4\", \"Topic4\", \"Topic4\", \"Topic4\", \"Topic4\", \"Topic4\", \"Topic4\", \"Topic4\", \"Topic4\", \"Topic4\", \"Topic4\", \"Topic4\", \"Topic4\", \"Topic4\", \"Topic4\", \"Topic4\", \"Topic4\", \"Topic4\", \"Topic4\", \"Topic4\", \"Topic4\", \"Topic4\", \"Topic4\", \"Topic4\", \"Topic4\", \"Topic4\", \"Topic4\", \"Topic4\", \"Topic4\", \"Topic4\", \"Topic4\", \"Topic4\", \"Topic4\", \"Topic4\", \"Topic4\", \"Topic4\", \"Topic4\", \"Topic4\", \"Topic4\", \"Topic5\", \"Topic5\", \"Topic5\", \"Topic5\", \"Topic5\", \"Topic5\", \"Topic5\", \"Topic5\", \"Topic5\", \"Topic5\", \"Topic5\", \"Topic5\", \"Topic5\", \"Topic5\", \"Topic5\", \"Topic5\", \"Topic5\", \"Topic5\", \"Topic5\", \"Topic5\", \"Topic5\", \"Topic5\", \"Topic5\", \"Topic5\", \"Topic5\", \"Topic5\", \"Topic5\", \"Topic5\", \"Topic5\", \"Topic5\", \"Topic5\", \"Topic5\", \"Topic5\", \"Topic5\", \"Topic5\", \"Topic5\", \"Topic5\", \"Topic5\", \"Topic5\", \"Topic5\", \"Topic5\", \"Topic5\", \"Topic5\", \"Topic5\", \"Topic5\", \"Topic5\", \"Topic5\", \"Topic5\", \"Topic5\", \"Topic5\", \"Topic5\", \"Topic5\", \"Topic5\", \"Topic5\", \"Topic5\", \"Topic5\", \"Topic5\", \"Topic5\", \"Topic5\", \"Topic5\", \"Topic5\", \"Topic5\", \"Topic5\", \"Topic5\", \"Topic5\", \"Topic5\", \"Topic5\", \"Topic5\", \"Topic5\", \"Topic5\", \"Topic5\", \"Topic5\", \"Topic5\", \"Topic5\", \"Topic5\", \"Topic5\", \"Topic5\", \"Topic5\", \"Topic5\", \"Topic5\"], \"logprob\": [30.0, 29.0, 28.0, 27.0, 26.0, 25.0, 24.0, 23.0, 22.0, 21.0, 20.0, 19.0, 18.0, 17.0, 16.0, 15.0, 14.0, 13.0, 12.0, 11.0, 10.0, 9.0, 8.0, 7.0, 6.0, 5.0, 4.0, 3.0, 2.0, 1.0, -7.125, -7.1758, -7.132, -7.132, -7.4774, -7.5504, -7.482, -7.629, -7.6291, -7.63, -6.4845, -5.4496, -7.8085, -7.9114, -7.9125, -7.9138, -6.6602, -8.0274, -8.028, -6.7281, -5.8734, -8.157, -8.157, -6.8092, -8.0459, -7.4122, -6.6628, -6.2565, -7.541, -8.3062, -5.8258, -6.6938, -6.3419, -6.8126, -5.824, -5.465, -6.3149, -6.521, -6.6413, -6.6718, -6.2211, -6.6769, -5.7477, -5.6187, -6.5653, -5.8695, -6.3766, -6.5491, -5.2844, -4.9204, -5.1719, -4.7242, -4.7404, -5.7269, -6.0783, -6.2252, -6.0697, -5.5073, -5.5715, -6.0891, -5.2267, -5.8731, -5.8475, -5.8892, -5.7096, -5.9995, -5.8591, -5.5863, -5.6561, -5.7639, -5.9822, -5.944, -5.9853, -5.9414, -6.001, -4.9618, -7.1013, -7.2962, -7.4107, -7.4108, -7.4112, -6.5209, -7.6909, -6.7498, -7.5617, -7.5719, -7.7172, -7.1814, -6.4111, -6.0081, -6.1203, -7.1934, -6.7904, -7.89, -7.119, -6.2542, -6.8021, -6.8597, -6.4028, -6.705, -6.8206, -6.7178, -6.5807, -6.5778, -6.2899, -6.1347, -5.5031, -6.419, -4.2906, -6.7408, -5.9936, -5.6962, -6.7044, -5.9798, -5.9343, -6.2004, -6.3739, -5.9044, -5.3267, -6.3305, -6.5908, -6.3244, -5.416, -6.2431, -6.034, -5.6649, -5.5892, -5.9207, -5.9472, -5.7451, -6.1141, -5.7948, -6.0536, -5.7015, -5.9664, -6.0314, -6.0211, -5.9409, -5.9839, -6.0289, -6.0154, -6.056, -6.0771, -6.2623, -6.2748, -6.3647, -6.4789, -6.48, -6.6791, -6.7357, -6.8171, -6.8856, -7.0287, -7.0553, -7.0293, -6.8672, -7.2637, -7.2977, -7.2345, -7.2676, -7.4451, -6.5768, -7.4851, -7.4852, -7.4852, -7.3031, -7.6658, -7.6202, -6.318, -6.3816, -7.717, -7.7702, -7.1309, -6.3537, -7.2855, -6.0241, -6.309, -6.9785, -7.172, -5.9321, -6.7795, -6.2416, -6.5004, -5.2741, -6.4768, -6.0433, -5.911, -5.4154, -6.3867, -5.112, -5.4741, -5.9819, -6.3459, -5.5205, -5.6438, -6.2728, -6.0727, -6.2523, -5.9093, -6.288, -5.7256, -5.5409, -5.7296, -6.0903, -6.0395, -5.8847, -6.0429, -5.7304, -6.1477, -6.2317, -6.096, -6.0913, -6.0401, -6.0793, -6.1727, -6.1225, -6.2301, -6.231, -6.2139, -6.9246, -7.0144, -7.1673, -7.2236, -7.3472, -7.4158, -7.4883, -6.8703, -6.2181, -6.6348, -6.6683, -6.2649, -7.6524, -7.6532, -7.3064, -7.7482, -7.8492, -7.4435, -7.8495, -7.8496, -6.6299, -7.9651, -7.2271, -6.7718, -8.0946, -8.0949, -7.1384, -6.5233, -7.5477, -7.4156, -7.3016, -5.4233, -6.136, -5.5707, -6.6745, -6.9949, -6.8377, -6.2554, -6.7046, -5.4467, -6.5287, -6.5812, -6.1506, -5.595, -5.8456, -5.2263, -6.0672, -6.6165, -5.8281, -5.9148, -4.3389, -5.8679, -6.3063, -5.2251, -5.473, -6.1277, -5.5874, -6.1063, -6.1068, -6.2921, -5.108, -5.6001, -5.9549, -5.9446, -5.9097, -6.0808, -5.7041, -5.7246, -5.6144, -5.683, -5.8028, -5.8215, -5.9908, -5.9047, -6.0692, -6.0197, -6.0684, -6.3355, -6.6015, -6.8036, -6.9084, -6.9085, -6.9983, -7.1583, -7.1943, -7.1944, -7.1951, -7.2319, -7.2321, -7.1982, -5.9259, -7.3537, -7.3977, -7.4447, -7.4936, -7.5426, -7.5426, -7.5427, -7.5437, -7.5437, -7.5971, -7.5976, -7.7124, -7.7128, -7.7133, -7.7139, -7.7143, -6.8844, -6.8169, -6.1232, -7.6033, -6.1093, -7.0657, -5.6001, -6.0662, -6.6865, -6.7474, -5.6785, -5.7001, -6.5221, -7.0965, -6.5564, -6.112, -6.054, -5.1089, -6.2712, -6.3193, -5.3173, -5.6665, -6.0607, -5.2959, -6.6098, -4.3934, -5.5876, -5.5669, -6.0128, -5.7481, -5.9745, -5.8445, -6.4162, -5.3958, -5.4906, -5.6916, -5.7997, -5.4184, -5.9854, -5.7971, -5.6054, -5.6343, -5.5951, -5.6335, -5.7145, -5.7955, -5.8438, -5.8858, -5.9291, -5.9554], \"loglift\": [30.0, 29.0, 28.0, 27.0, 26.0, 25.0, 24.0, 23.0, 22.0, 21.0, 20.0, 19.0, 18.0, 17.0, 16.0, 15.0, 14.0, 13.0, 12.0, 11.0, 10.0, 9.0, 8.0, 7.0, 6.0, 5.0, 4.0, 3.0, 2.0, 1.0, 1.7007, 1.6987, 1.6935, 1.6935, 1.6847, 1.6806, 1.68, 1.6762, 1.676, 1.6751, 1.6718, 1.6666, 1.6636, 1.656, 1.6549, 1.6536, 1.6535, 1.6453, 1.6447, 1.6443, 1.6419, 1.6334, 1.6334, 1.6274, 1.6265, 1.6246, 1.623, 1.6229, 1.62, 1.6176, 1.601, 1.5909, 1.5753, 1.5914, 1.5454, 1.5118, 1.5498, 1.5621, 1.564, 1.56, 1.5187, 1.553, 1.4585, 1.4144, 1.5203, 1.3945, 1.4834, 1.5141, 1.2395, 1.0899, 1.1121, 0.9137, 0.8917, 1.2191, 1.3271, 1.3826, 1.3095, 1.0614, 1.0771, 1.3126, 0.8838, 1.1647, 1.1131, 0.9717, 0.7864, 1.0693, 0.8781, 0.4409, 0.5458, 0.6133, 0.9223, 0.8198, 0.8541, 0.2437, 2.3324, 2.3108, 2.3015, 2.2885, 2.2791, 2.279, 2.2786, 2.2746, 2.2495, 2.2454, 2.2449, 2.2343, 2.2222, 2.2186, 2.2163, 2.2131, 2.21, 2.2077, 2.2036, 2.2031, 2.2, 2.1959, 2.1912, 2.1909, 2.1847, 2.1828, 2.1731, 2.1702, 2.1697, 2.1695, 2.1587, 2.11, 1.9849, 2.098, 1.8305, 2.098, 1.8975, 1.813, 2.0853, 1.8708, 1.8489, 1.8935, 1.9521, 1.7351, 1.1349, 1.8111, 1.9945, 1.7681, 0.9669, 1.6797, 1.3627, 0.8981, 0.6798, 0.9718, 0.9775, 0.464, 1.2613, 0.3006, 1.0316, -0.0636, 0.6968, 0.8883, 0.7161, 0.3014, 0.2045, 0.4083, 0.2686, 0.5127, 0.3832, 1.1706, 1.1702, 1.1696, 1.1682, 1.1671, 1.1654, 1.1648, 1.1636, 1.1597, 1.1597, 1.1591, 1.159, 1.1561, 1.1544, 1.1532, 1.1519, 1.1505, 1.1489, 1.1482, 1.1481, 1.1481, 1.1481, 1.1479, 1.1419, 1.141, 1.1398, 1.1397, 1.1395, 1.1377, 1.1375, 1.1291, 1.1328, 1.0914, 1.0896, 1.1129, 1.1245, 1.0167, 1.0835, 1.027, 1.0498, 0.8584, 1.0322, 0.9489, 0.9252, 0.8334, 1.0004, 0.7527, 0.8044, 0.8915, 0.9546, 0.59, 0.597, 0.8819, 0.7738, 0.8674, 0.6079, 0.8487, 0.3016, 0.0969, 0.2807, 0.6259, 0.5406, 0.3172, 0.471, -0.0984, 0.6056, 0.7668, 0.3568, 0.2859, -0.0071, 0.1033, 0.5026, -0.0114, 0.266, 0.226, 1.7824, 1.7649, 1.762, 1.7557, 1.7534, 1.7477, 1.7435, 1.7401, 1.7386, 1.7366, 1.7356, 1.7327, 1.7306, 1.7301, 1.7293, 1.7274, 1.7213, 1.7156, 1.7155, 1.7153, 1.7152, 1.7112, 1.7051, 1.6949, 1.6946, 1.6933, 1.693, 1.6861, 1.6807, 1.6798, 1.6794, 1.6771, 1.6319, 1.6208, 1.5771, 1.6362, 1.654, 1.6299, 1.566, 1.6081, 1.4427, 1.5753, 1.5697, 1.4796, 1.3644, 1.409, 1.2482, 1.4389, 1.5591, 1.3425, 1.3474, 0.8092, 1.3125, 1.4461, 0.96, 1.048, 1.3433, 1.0612, 1.2767, 1.2745, 1.385, 0.524, 0.8569, 1.1326, 1.0952, 1.0509, 1.2147, 0.7574, 0.7283, 0.2504, 0.35, 0.3298, 0.3804, 0.8537, 0.4725, 1.0094, 0.2226, 0.4062, 1.3393, 1.3357, 1.3321, 1.33, 1.3299, 1.3248, 1.3238, 1.3229, 1.3228, 1.3221, 1.3217, 1.3215, 1.319, 1.3189, 1.3178, 1.3164, 1.3139, 1.3115, 1.3114, 1.3114, 1.3113, 1.3103, 1.3103, 1.3083, 1.3078, 1.3042, 1.3038, 1.3034, 1.3027, 1.3023, 1.3014, 1.2961, 1.2846, 1.3021, 1.2639, 1.2874, 1.2329, 1.2518, 1.2733, 1.2745, 1.2025, 1.2015, 1.2512, 1.2872, 1.2499, 1.2062, 1.1823, 1.0544, 1.1848, 1.1869, 1.033, 1.0679, 1.13, 0.9919, 1.2156, 0.7548, 0.981, 0.9713, 1.0665, 0.9758, 1.0339, 0.96, 1.1606, 0.7869, 0.8167, 0.8937, 0.9361, 0.6769, 0.9705, 0.8043, 0.6037, 0.608, 0.4379, 0.4777, 0.4739, 0.5927, 0.6605, 0.5744, 0.3772, 0.4168]}, \"token.table\": {\"Topic\": [1, 2, 3, 4, 1, 2, 3, 4, 5, 1, 3, 4, 5, 1, 2, 3, 4, 5, 1, 2, 3, 4, 5, 3, 4, 4, 5, 1, 3, 4, 5, 1, 2, 3, 1, 3, 1, 2, 3, 1, 2, 3, 4, 5, 1, 3, 4, 5, 1, 1, 1, 2, 3, 4, 5, 1, 2, 3, 4, 5, 2, 3, 2, 3, 5, 4, 4, 1, 4, 1, 2, 3, 4, 1, 2, 3, 4, 5, 5, 1, 2, 3, 4, 5, 5, 4, 5, 3, 5, 1, 2, 3, 4, 5, 4, 3, 4, 5, 3, 4, 3, 5, 1, 2, 3, 4, 5, 1, 3, 5, 1, 3, 4, 3, 3, 4, 1, 3, 4, 2, 4, 5, 2, 3, 4, 1, 2, 3, 4, 5, 1, 2, 3, 4, 5, 1, 2, 3, 4, 5, 3, 2, 5, 3, 4, 5, 5, 2, 1, 2, 4, 3, 5, 1, 2, 3, 4, 5, 1, 2, 3, 4, 5, 5, 3, 4, 5, 2, 4, 5, 1, 2, 3, 4, 5, 4, 5, 3, 4, 3, 3, 4, 5, 3, 1, 2, 3, 4, 5, 1, 3, 4, 5, 2, 4, 2, 1, 2, 5, 4, 1, 4, 1, 3, 4, 5, 1, 2, 3, 4, 5, 1, 2, 3, 4, 5, 1, 3, 4, 5, 1, 2, 3, 4, 5, 5, 2, 5, 3, 4, 3, 3, 1, 2, 3, 4, 5, 2, 4, 5, 5, 3, 4, 1, 2, 3, 4, 5, 3, 1, 3, 4, 1, 2, 3, 4, 1, 2, 3, 1, 3, 4, 1, 1, 2, 3, 4, 2, 3, 5, 1, 3, 5, 2, 4, 5, 5, 1, 2, 3, 4, 5, 1, 3, 5, 3, 1, 2, 4, 5, 2, 2, 3, 5, 1, 2, 3, 4, 4, 2, 3, 5, 1, 3, 3, 3, 4, 5, 4, 1, 2, 3, 4, 5, 2, 3, 4, 5, 1, 5, 1, 3, 5, 5, 1, 3, 4, 1, 2, 3, 2, 3, 4, 5, 3, 5, 1, 2, 1, 2, 3, 4, 5, 1, 2, 3, 4, 5, 1, 2, 3, 4, 5, 1, 2, 3, 4, 5, 3, 4, 5, 1, 2, 3, 4, 5, 1, 2, 3, 4, 5, 5, 5, 2, 3, 4, 1, 2, 3, 4, 5, 1, 2, 3, 5, 1, 2, 5, 1, 2, 3, 4, 5, 5, 1, 2, 3, 4, 5, 5, 1, 2, 3, 4, 5, 1, 2, 3, 4, 5, 3, 4, 1, 2, 5, 3, 1, 2, 3, 4, 1, 2, 3, 4, 2, 1, 3, 4, 4, 1, 1, 2, 3, 4, 5, 2, 4, 5, 3, 4, 5, 3, 3, 4, 3, 1, 2, 3, 4, 5, 2, 3, 4, 5, 3, 1, 2, 3, 4, 5, 1, 2, 3, 4, 5, 1, 2, 3, 4, 5, 1, 2, 3, 4, 5, 1, 4, 1, 1, 2, 3, 4, 5, 1, 2, 3, 4, 5, 1, 2, 3, 1, 2, 3, 4, 5, 1, 2, 3, 4, 5, 5, 2, 4, 5, 1, 3, 4, 1, 2, 3, 4, 5, 1, 2, 3, 4, 5, 1, 2, 3, 4, 5, 1, 2, 3, 4, 1, 2, 3, 4, 5, 1, 1, 1, 2, 3, 4, 1, 2, 3, 4, 5, 1, 2, 3, 4, 5, 1, 3, 4, 5, 1, 1, 3, 3, 2, 5, 4, 1, 2, 3, 4, 5, 2, 3, 4, 5, 1, 2, 3, 4, 5, 1, 2, 3, 4, 5, 1, 2, 3, 5, 1, 2, 3, 4, 5, 3, 1, 2, 3, 4, 5, 5, 1, 2, 3, 4, 5, 1, 3, 1, 2, 3, 4, 5, 1, 1, 2, 4, 5, 1, 2, 3, 4, 5, 1, 2, 1, 2, 3, 5, 2, 3, 5, 2, 5, 5, 2, 3, 1, 2, 2, 3, 4, 5, 2, 1, 4, 4, 3, 4, 5, 4, 1, 2, 3, 4, 5, 1, 2, 3, 4, 1, 2, 3, 5, 5, 5, 1, 2, 3, 4, 5, 1, 2, 3, 4, 2, 5, 5, 3, 4, 1, 3, 4, 1, 2, 3, 4, 5, 3, 1, 2, 3, 4, 5, 1, 2, 3, 4, 5, 1, 3, 4, 1, 3, 4, 5, 1, 2, 3, 4, 5, 1, 1, 2, 3, 4, 1, 1, 3, 4, 5, 5, 2, 1, 3, 1, 3, 1, 2, 4, 1, 3, 4, 5, 1, 1, 2, 3, 4, 5, 2, 3, 5, 2, 3, 4, 5, 4, 2, 5, 3, 3, 1, 2, 3, 4, 5, 1, 2, 4, 5, 2, 4, 5, 3, 5, 1, 2, 3, 4, 5, 1, 3, 4, 5, 1, 2, 3, 4, 5, 1, 2, 3, 4, 5, 2, 3, 5, 1, 2, 3, 4, 5, 1, 3, 4, 5, 1, 3, 4, 3, 4, 5, 1, 2, 3, 4, 5, 1, 2, 3, 4, 5, 2, 3, 4, 1, 2, 4, 1, 2, 3, 4, 5, 5, 3, 4, 5, 3, 3, 4, 2, 4, 1, 2, 3, 4, 5, 1, 2, 3, 4, 5, 1, 3, 1, 2, 3, 4, 5, 1, 2, 3, 4, 5, 4, 1, 4, 1, 5, 1, 2, 3, 5, 2, 3, 4, 1, 3, 5, 4, 5, 1, 2, 3, 4, 5, 1, 2, 3, 4, 5, 1, 3, 4, 3, 5, 2, 3, 4, 5, 2, 3, 1, 3, 4, 5, 2, 3, 4, 1, 1, 1, 2, 3, 4, 5, 1, 2, 3, 4, 5, 5, 1, 2, 3, 4, 5, 1, 2, 5, 1, 2, 3, 5, 1, 3, 4, 5, 1, 3, 4, 3, 4, 5, 1, 3, 4, 5, 1, 2, 3, 4, 5, 1, 2, 3, 4, 5, 1, 2, 3, 4, 5, 1, 2, 3, 4, 5, 5, 5, 2, 5, 1, 2, 3, 4, 5, 1, 2, 3, 4, 5, 1, 2, 3, 4, 5, 1, 2, 3, 4, 5, 1, 2, 3, 4, 5, 2, 3, 4, 5, 1, 2, 3, 4, 5, 4, 3, 5, 1, 2, 3, 4, 5, 1, 2, 3, 4, 5, 5, 5], \"Freq\": [0.22408903036003192, 0.06758240598159693, 0.27744356139813475, 0.4303932170406962, 0.1994557443900548, 0.18570017581143033, 0.13067790149693245, 0.38515592020148515, 0.10316676433968351, 0.23720126996808893, 0.09488050798723557, 0.664163555910649, 0.015813417997872597, 0.3552990414296168, 0.00772389220499167, 0.10813449086988337, 0.4711574245044919, 0.06179113763993336, 0.33029833296000816, 0.0347682455747377, 0.08692061393684425, 0.4519871924715901, 0.09561267533052868, 0.9620930089315145, 0.92830583875041, 0.9488963972162585, 0.03162987990720861, 0.59375419972445, 0.17508136658541476, 0.19791806657481667, 0.030448933319202565, 0.16174157808429507, 0.505442431513422, 0.32348315616859014, 0.9065922733283525, 0.06973786717910403, 0.901243417563942, 0.0807083657519948, 0.9745928108630898, 0.045488199864840706, 0.03790683322070059, 0.7088577812271011, 0.06823229979726106, 0.14404596623866225, 0.648355754984227, 0.09605270444210771, 0.22812517305000582, 0.02401317611052693, 0.9160592394803243, 0.9306426499058789, 0.4105713540711531, 0.04105713540711531, 0.34214279505929424, 0.15054282982608946, 0.05474284720948708, 0.054869450987019855, 0.060966056652244284, 0.1524151416306107, 0.042676239656571, 0.6889164401703605, 0.8862794433564466, 0.05908529622376311, 0.8118363290879409, 0.12489789678276014, 0.06244894839138007, 0.9574339963775718, 0.91376088158665, 0.12537312838927991, 0.8776118987249595, 0.7225606311816886, 0.07474765150155399, 0.12457941916925665, 0.07474765150155399, 0.04051357527504757, 0.048616290330057085, 0.15395158604518078, 0.024308145165028543, 0.7292443549508563, 0.9702234017899563, 0.006960945406434276, 0.06960945406434275, 0.09397276298686273, 0.08701181758042845, 0.7413406857852504, 0.9939118827614546, 0.9573586344847592, 0.9755864815366398, 0.9821585617727779, 0.9813398885896021, 0.07216283393202852, 0.24535363536889698, 0.31751646930092553, 0.043297700359217116, 0.31751646930092553, 0.9747882738133204, 0.15116462243102055, 0.5614685976009335, 0.28073429880046674, 0.20095525150456273, 0.7855523467905634, 0.031090151722100844, 0.9327045516630253, 0.22375348686224175, 0.18932987349881994, 0.29260071358908535, 0.2696516380134708, 0.028686344469518173, 0.8307140863666516, 0.02373468818190433, 0.11867344090952164, 0.9448636156175888, 0.02553685447615105, 0.02553685447615105, 0.9772732570762713, 0.06959866647203262, 0.9047826641364242, 0.061434392044394034, 0.030717196022197017, 0.9215158806659105, 0.02416124904414272, 0.03624187356621408, 0.9302080881994947, 0.8589587148244457, 0.04090279594402123, 0.08180559188804246, 0.11978511951098059, 0.5510115497505107, 0.16769916731537282, 0.11978511951098059, 0.047914047804392235, 0.057004234198507336, 0.047503528498756116, 0.2090155253945269, 0.574792694834949, 0.10925811554713906, 0.0061607174404298155, 0.024642869761719262, 0.09857147904687705, 0.1170536313681665, 0.7516075277324376, 0.9621504397780064, 0.9193263108794587, 0.048385595309445195, 0.22657738267842553, 0.6930602293693017, 0.06664040667012515, 0.9747494059678798, 0.9114126404446896, 0.07325559222162964, 0.7691837183271112, 0.1831389805540741, 0.9401627544481582, 0.029380086076504944, 0.037345142347489424, 0.037345142347489424, 0.38745585185520276, 0.38745585185520276, 0.1493805693899577, 0.8741698108715067, 0.024624501714690328, 0.024624501714690328, 0.049249003429380656, 0.03693675257203549, 0.965496267487725, 0.7972189466071913, 0.047833136796431475, 0.15944378932143827, 0.825954846943522, 0.05899677478168014, 0.05899677478168014, 0.0053935981728640316, 0.07551037442009645, 0.3020414976803858, 0.037755187210048224, 0.5771150044964514, 0.9211891257124101, 0.06141260838082734, 0.7335817320302814, 0.2626403731960267, 0.9599006711257443, 0.9607281509163438, 0.013531382407272448, 0.013531382407272448, 0.987411835929945, 0.05035913480371852, 0.07194162114816932, 0.05035913480371852, 0.6978337251372424, 0.12949491806670477, 0.9160575506795793, 0.9826406045440214, 0.8786160991038156, 0.05491350619398847, 0.09962551356095298, 0.8966296220485768, 0.9122347278314044, 0.054499601233134125, 0.844743819113579, 0.08174940184970118, 0.9573609043627862, 0.14929076315212353, 0.8360282736518917, 0.013021326619771682, 0.9505568432433328, 0.026042653239543363, 0.013021326619771682, 0.5078336356438328, 0.20657639416020315, 0.043036748783375656, 0.2237910936735534, 0.00860734975667513, 0.15161674880311368, 0.06202503360127378, 0.6684920288137285, 0.034458352000707654, 0.08959171520183991, 0.057737672542692554, 0.30793425356102694, 0.6158685071220539, 0.019245890847564184, 0.05589172469103305, 0.027945862345516524, 0.08383758703654957, 0.8011147205714737, 0.027945862345516524, 0.9891779340761274, 0.8168020509460147, 0.08168020509460146, 0.9624113010504414, 0.03318659658794625, 0.9756134622173152, 0.9819185821556565, 0.01881167781068383, 0.6019736899418826, 0.2821751671602575, 0.07524671124273533, 0.03762335562136766, 0.06850544937106501, 0.8391917547955463, 0.08563181171383126, 0.9747515357048732, 0.07453740010835243, 0.8944488013002291, 0.12222484470374988, 0.09249447707310801, 0.3039104246687835, 0.06606748362364859, 0.41622514682898604, 0.987412340768024, 0.39971220784720435, 0.3172319109898447, 0.28550871989086024, 0.24066260146443683, 0.5749162146094879, 0.1470715897838225, 0.04011043357740614, 0.15159269266677428, 0.7579634633338713, 0.10106179511118285, 0.8444107000190924, 0.10052508333560624, 0.040210033334242494, 0.9666131242742555, 0.6039040514527303, 0.01497282772196852, 0.21461053068154878, 0.16470110494165371, 0.10013157873264775, 0.07152255623760553, 0.8296616523562242, 0.9266064975965486, 0.029890532180533825, 0.029890532180533825, 0.10459184521970563, 0.836734761757645, 0.03486394840656855, 0.9722181875999832, 0.031532282161054984, 0.031532282161054984, 0.8618823790688362, 0.010510760720351661, 0.06306456432210997, 0.019044007690315806, 0.9141123691351587, 0.05713202307094742, 0.9874126248402278, 0.060521802402960345, 0.6657398264325638, 0.2118263084103612, 0.060521802402960345, 0.9467486489366481, 0.829980591023398, 0.046110032834633226, 0.13833009850389966, 0.1715304989078624, 0.16200102674631447, 0.028588416484643733, 0.6289451626621622, 0.9399203291395253, 0.05087946599141332, 0.10175893198282664, 0.844599135457461, 0.9306695798280552, 0.9908580398400189, 0.9642706612994052, 0.12698205033777016, 0.7872887120941751, 0.07618923020266209, 0.9345140021727697, 0.3420051478672023, 0.0087693627658257, 0.1227710787215598, 0.5173924031837163, 0.0087693627658257, 0.9391401330434032, 0.031656408978991114, 0.010552136326330373, 0.021104272652660745, 0.9191477783143862, 0.0633895019527163, 0.8905969557730236, 0.05808241015911023, 0.038721606772740155, 0.9721261924237394, 0.9294826207007739, 0.036096412454398985, 0.036096412454398985, 0.0911622354861911, 0.8508475312044502, 0.06077482365746073, 0.8881285286093622, 0.011042851835425992, 0.08834281468340793, 0.9055138505049313, 0.03205751849030223, 0.9296680362187647, 0.0886742531310491, 0.8867425313104911, 0.174183691664338, 0.024883384523476857, 0.308553968091113, 0.4727843059460603, 0.019906707618781487, 0.03617363271241123, 0.0924437280428287, 0.15675240842044869, 0.12861736075523994, 0.5868167084457823, 0.010614751086333975, 0.037151628802168914, 0.2176023972698465, 0.10084013532017277, 0.6315776896368716, 0.068282061719581, 0.12680954319350757, 0.23410992589570628, 0.06503053497102952, 0.5104896995225817, 0.04079548892586336, 0.06799248154310561, 0.8907015082146835, 0.30383827029123317, 0.007234244530743646, 0.4232033050485033, 0.24234719177991215, 0.025319855857602762, 0.10377040485577901, 0.06423882205357749, 0.49414478502751913, 0.0592973742033023, 0.28166252746568593, 0.9831735566757647, 0.9702211062951168, 0.6666765919777103, 0.07843254023267181, 0.19608135058167953, 0.10380864052561235, 0.22244708684059789, 0.11122354342029894, 0.029659611578746383, 0.5338730084174349, 0.1679377917955151, 0.6237689409547704, 0.07197333934093504, 0.14394667868187008, 0.13875967023128316, 0.832558021387699, 0.9658369429570447, 0.13272639562988786, 0.14187994015608704, 0.2746063357859749, 0.20595475183948117, 0.24714570220737742, 0.9658472028672099, 0.030129882256569995, 0.12428576430835124, 0.16194811712906373, 0.20714294051391874, 0.47454564554097745, 0.9658538441691858, 0.045266305875171074, 0.015088768625057024, 0.015088768625057024, 0.7242608940027372, 0.19615399212574133, 0.02167466339534897, 0.24275623002790847, 0.32945488360930436, 0.16906237448372197, 0.23408636466976887, 0.04015484161882333, 0.9235613572329366, 0.6934464379453907, 0.14754179530752995, 0.13278761577677695, 0.9599952104138922, 0.8314022084171594, 0.026819426077972882, 0.08045827823391866, 0.053638852155945764, 0.13472653117214592, 0.12436295185121161, 0.06218147592560581, 0.6736326558607296, 0.9467670405320767, 0.8261616806499649, 0.027538722688332164, 0.11015489075332865, 0.9137687747034138, 0.897289458026591, 0.559117920691278, 0.016690087184814267, 0.125175653886107, 0.20862608981017833, 0.08345043592407134, 0.9588482627906895, 0.945905605656833, 0.03261743467782183, 0.9821973425225571, 0.9392936099048483, 0.0417463826624377, 0.9796786881751056, 0.8472941459860394, 0.14503233129490764, 0.9870457049316432, 0.011045783736970776, 0.011045783736970776, 0.05522891868485388, 0.05522891868485388, 0.8615711314837206, 0.03131449231857459, 0.22963961033621366, 0.05219082053095765, 0.6889188310086409, 0.9887089618691293, 0.024440308796686287, 0.03360542459544365, 0.3055038599585786, 0.23523797216810552, 0.400210056545738, 0.03701393907324246, 0.055520908609863695, 0.17890070552067192, 0.06168989845540411, 0.660081913472824, 0.23844912946029703, 0.2459006647559313, 0.290609876529737, 0.06706381766070854, 0.15648224120831994, 0.25087497037640816, 0.3583928148234402, 0.11946427160781341, 0.23892854321562682, 0.02389285432156268, 0.862304194581881, 0.061593156755848644, 0.9519095569253843, 0.04614969581027729, 0.02097713445921695, 0.1971850639166393, 0.01258628067553017, 0.7258088522889065, 0.5329819583762645, 0.0077243762083516595, 0.1931094052087915, 0.2471800386672531, 0.015448752416703319, 0.8787996460696913, 0.06759997277459164, 0.03379998638729582, 0.06150461621036468, 0.01537615405259117, 0.1076330783681382, 0.13069730944702496, 0.6842388553403072, 0.01167009713664873, 0.02334019427329746, 0.035010291409946194, 0.02334019427329746, 0.9219376737952497, 0.9658503243857594, 0.8221345221720037, 0.03425560509050015, 0.10276681527150046, 0.02979677445424684, 0.11918709781698736, 0.8641064591731583, 0.00354806607831423, 0.04257679293977076, 0.3406143435181661, 0.04612485901808499, 0.5676905725302768, 0.07070680487530971, 0.24747381706358398, 0.05892233739609143, 0.5892233739609143, 0.035353402437654856, 0.13576745559031886, 0.08354920344019622, 0.1148801547302698, 0.6370626762314961, 0.03133095129007358, 0.13711683418132972, 0.6268198134003644, 0.09794059584380695, 0.13711683418132972, 0.4383267136100447, 0.08643061958507924, 0.3374909907607856, 0.08231487579531356, 0.05350466926695382, 0.9666252544617324, 0.9724095625978204, 0.7504965333734762, 0.019749908772986213, 0.029624863159479323, 0.18762413334336905, 0.03539589424198084, 0.07787096733235785, 0.7503929579299938, 0.10618768272594252, 0.02831671539358467, 0.03633114514370742, 0.22836719804616096, 0.3736917786209906, 0.06228196310349844, 0.3010294883335758, 0.1465941578088136, 0.19288704974843895, 0.6481004871547549, 0.007715481989937558, 0.9304370872307273, 0.8709680141108311, 0.11612906854811082, 0.975623862500569, 0.020525969563960106, 0.964720569506125, 0.9792419707884444, 0.005163816642243203, 0.03614671649570242, 0.6532228052437652, 0.21171648233197132, 0.09553060788149925, 0.5805193216579994, 0.21018803025548252, 0.016681589702816073, 0.19350644055266644, 0.14275058308220023, 0.11420046646576018, 0.28193240158734545, 0.04282517492466007, 0.4175454555154357, 0.2733614247863059, 0.030373491642922877, 0.4161168355080434, 0.10630722075023007, 0.17920360069324498, 0.023389144355656966, 0.32744802097919756, 0.36253173751268297, 0.2806697322678836, 0.12552267568903017, 0.023244939942412994, 0.4370048709173643, 0.34402511114771234, 0.07438380781572158, 0.9905459674057527, 0.02025120860327558, 0.025314010754094472, 0.2582029096917636, 0.015188406452456683, 0.6834782903605507, 0.9550476374207096, 0.05286102396345807, 0.026430511981729035, 0.08589916394061936, 0.1585830718903742, 0.6739780555340904, 0.03810157080881399, 0.9652397938232877, 0.43821143452613365, 0.13876695426660898, 0.22640924117183572, 0.14607047817537788, 0.04382114345261336, 0.9425831204148536, 0.100646366388359, 0.5787166067330642, 0.2516159159708975, 0.07548477479126925, 0.003941607197705445, 0.035474464779349, 0.18919714548986133, 0.07489053675640345, 0.6976644739938637, 0.9423348015695742, 0.9467676273432273, 0.04811094695082297, 0.7697751512131675, 0.14433284085246892, 0.04811094695082297, 0.8256217586581143, 0.058972982761293875, 0.058972982761293875, 0.8857036948075205, 0.08857036948075205, 0.9721201753692875, 0.8262317467778885, 0.1180331066825555, 0.030482988463643407, 0.9449726423729456, 0.07369536807728247, 0.7185298387535042, 0.07369536807728247, 0.13817881514490465, 0.8856519193197855, 0.8089833513333509, 0.19034902384314137, 0.9791579929852506, 0.9108428958464763, 0.009018246493529468, 0.07214597194823574, 0.9399207709783527, 0.03384657857203797, 0.03384657857203797, 0.5565881809624021, 0.07521461904897327, 0.2970977452434444, 0.25792321380244027, 0.2907498046500236, 0.09847977254274994, 0.351713473366964, 0.7785422897842199, 0.03797767267240097, 0.03797767267240097, 0.1519106906896039, 0.987850822354244, 0.9658505861148012, 0.2508500483429752, 0.10034001933719008, 0.11706335589338843, 0.4933384284078512, 0.03344667311239669, 0.6456928956726417, 0.023479741660823335, 0.12913857913452834, 0.18783793328658668, 0.8253824608090905, 0.15721570682077915, 0.9845195770441298, 0.04348754207055811, 0.9349821545169994, 0.011970311914179193, 0.9097437054776187, 0.07182187148507517, 0.13089697037323156, 0.680664245940804, 0.013089697037323154, 0.170166061485201, 0.026179394074646308, 0.98898013300982, 0.010124297077367604, 0.02024859415473521, 0.7255746238780116, 0.22948406708699903, 0.01687382846227934, 0.15294247226546387, 0.15294247226546387, 0.08235363891217286, 0.5882402779440918, 0.011764805558881836, 0.32326656414265464, 0.40947098124736253, 0.2672336930245945, 0.7114009681872561, 0.010461778943930236, 0.2615444735982559, 0.02092355788786047, 0.17847143597670193, 0.0247876994412086, 0.5651595472595561, 0.22308929497087743, 0.00991507977648344, 0.9474614233045706, 0.7910968314378163, 0.06980266159745438, 0.0930702154632725, 0.04653510773163625, 0.907523320799614, 0.059161810040962645, 0.8400977025816696, 0.023664724016385058, 0.0828265340573477, 0.9747700560154943, 0.9310529986781759, 0.9475798092025768, 0.9854349130779635, 0.8246184527540497, 0.1649236905508099, 0.9423166029351311, 0.05811621668743135, 0.8717432503114703, 0.8254124812486556, 0.03487658371473193, 0.12788080695401707, 0.011625527904910643, 0.9474618567532231, 0.10772127195337138, 0.13582247333251174, 0.24822727884907317, 0.04683533563190059, 0.45898628919262585, 0.8208980128584248, 0.06840816773820207, 0.1026122516073031, 0.10694655505964436, 0.05833448457798783, 0.03888965638532522, 0.797237955899167, 0.9493963098995247, 0.04890697040346494, 0.9536859228675664, 0.9836894865084238, 0.9742353650323569, 0.006305289046114901, 0.0012610578092229802, 0.0693581795072639, 0.37201205372077917, 0.5510822626304424, 0.11037346688737999, 0.008490266683644615, 0.8490266683644614, 0.03396106673457846, 0.7962012311760377, 0.053080082078402514, 0.10616016415680503, 0.026300546033775605, 0.9468196572159218, 0.02322777820862682, 0.05806944552156706, 0.5052041760376333, 0.20905000387764142, 0.2032430593254847, 0.021702998146146294, 0.8030109314074129, 0.15192098702302406, 0.03255449721921944, 0.6628332032388408, 0.13256664064776816, 0.012051512786160741, 0.15666966622008965, 0.048206051144642964, 0.14380677602071892, 0.06536671637305407, 0.278897989858364, 0.04357781091536937, 0.4662825767944523, 0.013329920835348265, 0.13329920835348263, 0.853114933462289, 0.383474893543349, 0.014562337729494267, 0.4028913438493414, 0.16503982760093502, 0.03397878803548662, 0.7928934553046254, 0.13345731425919438, 0.03140172100216338, 0.03140172100216338, 0.08034727501514165, 0.026782425005047218, 0.8838200251665581, 0.9621757303398294, 0.01658923672999706, 0.974754880116632, 0.17497594559841723, 0.26246391839762584, 0.14872955375865465, 0.026246391839762583, 0.39369587759643876, 0.10551098045588755, 0.5978955559166961, 0.07034065363725837, 0.10551098045588755, 0.12309614386520215, 0.753197214859209, 0.13948096571466834, 0.083688579428801, 0.820246256803363, 0.09537747172132129, 0.07630197737705703, 0.27081732824089505, 0.0950236239441737, 0.1282818923246345, 0.24706142225485161, 0.2613149658464777, 0.9525463292568533, 0.22613546162795997, 0.017395035509843077, 0.7479865269232523, 0.990992269957356, 0.9333593232108349, 0.047864580677478716, 0.9306792485254727, 0.939920246194321, 0.42758561523453514, 0.008183456750900193, 0.2782375295306066, 0.28028339371833166, 0.006137592563175145, 0.5226384708919122, 0.002986505547953784, 0.4061647545217146, 0.05674360541112189, 0.008959516643861352, 0.8081472750551834, 0.18520041720014618, 0.08809962543316069, 0.06852193089245831, 0.2447211817587797, 0.09299404906833628, 0.49923121078791055, 0.102950059040425, 0.0514750295202125, 0.02573751476010625, 0.6305691116226031, 0.1801626033207437, 0.9495182463039171, 0.06528905426553495, 0.9140467597174894, 0.06697207894659081, 0.915285078936741, 0.01336686600275071, 0.02673373200550142, 0.8688462901787961, 0.09356806201925497, 0.027858493074230408, 0.8775425318382579, 0.08357547922269123, 0.07337086378538599, 0.05502814783903949, 0.8804503654246318, 0.9698146258652893, 0.9891789973247915, 0.46141939611025196, 0.0069912029713674545, 0.23770090102649344, 0.2726569158833307, 0.027964811885469818, 0.13723919325282227, 0.05575342225895905, 0.3087881848188501, 0.10292939493961671, 0.39456268060186406, 0.5145420635213717, 0.005654308390344744, 0.48061621317930325, 0.971196379194721, 0.028564599388080033, 0.03482220355187326, 0.03482220355187326, 0.03482220355187326, 0.9053772923487048, 0.8490898737794762, 0.1592043513336518, 0.03410122670917817, 0.10230368012753453, 0.6990751475381526, 0.1534555201913018, 0.03481985805779151, 0.03481985805779151, 0.9053163095025794, 0.9666263270402, 0.9774169817680741, 0.014266649160695855, 0.014266649160695855, 0.06419992122313135, 0.04279994748208757, 0.8631322742220993, 0.14856549459406687, 0.08432095639122714, 0.22485588370993903, 0.1646266291447768, 0.3774366619416834, 0.9793511407592806, 0.025113194381116647, 0.14440086769142071, 0.5650468735751246, 0.11928767331030407, 0.14440086769142071, 0.8505298467885856, 0.06542537282989119, 0.06542537282989119, 0.9010465504418327, 0.02906601775618815, 0.02906601775618815, 0.0581320355123763, 0.04846982149260488, 0.02423491074630244, 0.7997520546279805, 0.12117455373151219, 0.9423548841988298, 0.2082599818923454, 0.7809749320962952, 0.08873711763549062, 0.06338365545392187, 0.8493409830825531, 0.4258536363901178, 0.5546000846010837, 0.016505954898841775, 0.0033011909797683553, 0.032089540952593094, 0.08022385238148275, 0.6578355895281585, 0.1845148604774103, 0.04011192619074137, 0.01209880682149394, 0.018148210232240912, 0.5746933240209622, 0.03024701705373485, 0.36901360805556516, 0.5340538906172828, 0.12173287212599829, 0.14922094002541728, 0.09031793738380518, 0.10602540475490174, 0.5063368537301709, 0.15659902692685698, 0.1252792215414856, 0.020879870256914266, 0.1879188323122284, 0.9771918917645473, 0.9747496637195822, 0.0629437955261194, 0.9231756677164177, 0.060925880282619485, 0.5331014524729205, 0.13708323063589384, 0.07615735035327435, 0.19800911091851334, 0.027284470601460914, 0.013642235300730457, 0.7776074121416361, 0.06821117650365228, 0.10913788240584366, 0.42008488397091615, 0.19150928533968237, 0.03088859440962619, 0.06177718881925238, 0.2965305063324114, 0.05100487619746761, 0.14937142314972657, 0.2623107918726906, 0.06557769796817264, 0.4736167075479135, 0.01583981756687155, 0.005279939188957183, 0.5279939188957183, 0.11615866215705803, 0.33263616890430253, 0.014562654593665646, 0.10193858215565951, 0.02184398189049847, 0.859196621026273, 0.037516726632087015, 0.037516726632087015, 0.7409553509837185, 0.10317099823823929, 0.08441263492219578, 0.9284006370344193, 0.0899768820719386, 0.899768820719386, 0.13926082601419504, 0.18181274507408796, 0.2707849394720459, 0.18954945763043213, 0.21662795157763673, 0.027335657379875873, 0.054671314759751746, 0.6872965284083077, 0.04295603302551923, 0.18744450774772026, 0.9878408091112766, 0.9891751972919729], \"Term\": [\"000\", \"000\", \"000\", \"000\", \"10\", \"10\", \"10\", \"10\", \"10\", \"1959\", \"1959\", \"1959\", \"1959\", \"1960\", \"1960\", \"1960\", \"1960\", \"1960\", \"1961\", \"1961\", \"1961\", \"1961\", \"1961\", \"academic\", \"acre\", \"acres\", \"acres\", \"act\", \"act\", \"act\", \"act\", \"add\", \"add\", \"add\", \"advantages\", \"advantages\", \"af\", \"af\", \"africa\", \"american\", \"american\", \"american\", \"american\", \"american\", \"amount\", \"amount\", \"amount\", \"amount\", \"ample\", \"appropriated\", \"area\", \"area\", \"area\", \"area\", \"area\", \"around\", \"around\", \"around\", \"around\", \"around\", \"artist\", \"artist\", \"artists\", \"artists\", \"artists\", \"atlanta\", \"attorneys\", \"automobile\", \"automobile\", \"available\", \"available\", \"available\", \"available\", \"away\", \"away\", \"away\", \"away\", \"away\", \"baby\", \"back\", \"back\", \"back\", \"back\", \"back\", \"ball\", \"bankers\", \"baseball\", \"berlin\", \"beside\", \"best\", \"best\", \"best\", \"best\", \"best\", \"bid\", \"bill\", \"bill\", \"bill\", \"billion\", \"billion\", \"birds\", \"birds\", \"board\", \"board\", \"board\", \"board\", \"board\", \"boat\", \"boat\", \"boat\", \"boats\", \"boats\", \"boats\", \"bombs\", \"bond\", \"bond\", \"bonds\", \"bonds\", \"bonds\", \"boy\", \"boy\", \"boy\", \"builder\", \"builder\", \"builder\", \"built\", \"built\", \"built\", \"built\", \"built\", \"business\", \"business\", \"business\", \"business\", \"business\", \"came\", \"came\", \"came\", \"came\", \"came\", \"castro\", \"cattle\", \"cattle\", \"cent\", \"cent\", \"cent\", \"charlie\", \"chef\", \"chemical\", \"chemical\", \"chemical\", \"china\", \"china\", \"city\", \"city\", \"city\", \"city\", \"city\", \"clay\", \"clay\", \"clay\", \"clay\", \"clay\", \"clothes\", \"college\", \"college\", \"college\", \"column\", \"column\", \"column\", \"come\", \"come\", \"come\", \"come\", \"come\", \"commissioner\", \"commissioner\", \"committee\", \"committee\", \"communism\", \"communist\", \"communist\", \"communist\", \"communists\", \"company\", \"company\", \"company\", \"company\", \"company\", \"comprehensive\", \"congo\", \"conspiracy\", \"conspiracy\", \"consumer\", \"consumer\", \"cooled\", \"cooling\", \"cooling\", \"cooling\", \"corp\", \"corporation\", \"corporation\", \"corps\", \"corps\", \"corps\", \"corps\", \"cost\", \"cost\", \"cost\", \"cost\", \"cost\", \"country\", \"country\", \"country\", \"country\", \"country\", \"county\", \"county\", \"county\", \"county\", \"court\", \"court\", \"court\", \"court\", \"court\", \"cousin\", \"cream\", \"cream\", \"crisis\", \"crisis\", \"cuba\", \"cuban\", \"daily\", \"daily\", \"daily\", \"daily\", \"daily\", \"dallas\", \"dallas\", \"dallas\", \"dave\", \"davis\", \"davis\", \"day\", \"day\", \"day\", \"day\", \"day\", \"democrats\", \"department\", \"department\", \"department\", \"design\", \"design\", \"design\", \"design\", \"designs\", \"designs\", \"designs\", \"determine\", \"determine\", \"determine\", \"determining\", \"development\", \"development\", \"development\", \"development\", \"door\", \"door\", \"door\", \"drill\", \"drill\", \"drill\", \"driver\", \"driver\", \"driver\", \"drove\", \"east\", \"east\", \"east\", \"east\", \"east\", \"editor\", \"editor\", \"editor\", \"editorial\", \"engineer\", \"engineer\", \"engineer\", \"engineer\", \"entertain\", \"entrance\", \"entrance\", \"entrance\", \"equipment\", \"equipment\", \"equipment\", \"equipment\", \"exempt\", \"eyes\", \"eyes\", \"eyes\", \"facility\", \"faculty\", \"fallout\", \"farm\", \"farm\", \"farm\", \"farmers\", \"federal\", \"federal\", \"federal\", \"federal\", \"federal\", \"feed\", \"feed\", \"feed\", \"feed\", \"fig\", \"fig\", \"file\", \"file\", \"file\", \"fingers\", \"fiscal\", \"fiscal\", \"fiscal\", \"foundation\", \"foundation\", \"foundation\", \"fruit\", \"game\", \"game\", \"game\", \"games\", \"games\", \"gate\", \"gate\", \"general\", \"general\", \"general\", \"general\", \"general\", \"get\", \"get\", \"get\", \"get\", \"get\", \"go\", \"go\", \"go\", \"go\", \"go\", \"good\", \"good\", \"good\", \"good\", \"good\", \"got\", \"got\", \"got\", \"government\", \"government\", \"government\", \"government\", \"government\", \"great\", \"great\", \"great\", \"great\", \"great\", \"guy\", \"hair\", \"handling\", \"handling\", \"handling\", \"head\", \"head\", \"head\", \"head\", \"head\", \"heat\", \"heat\", \"heat\", \"heat\", \"heating\", \"heating\", \"hell\", \"high\", \"high\", \"high\", \"high\", \"high\", \"hits\", \"home\", \"home\", \"home\", \"home\", \"home\", \"horses\", \"hospital\", \"hospital\", \"hospital\", \"hospital\", \"hospital\", \"house\", \"house\", \"house\", \"house\", \"house\", \"hughes\", \"hughes\", \"inch\", \"inch\", \"inch\", \"independence\", \"india\", \"india\", \"india\", \"india\", \"industry\", \"industry\", \"industry\", \"industry\", \"installation\", \"interference\", \"interference\", \"interference\", \"inventories\", \"involves\", \"island\", \"island\", \"island\", \"island\", \"island\", \"jane\", \"jones\", \"jones\", \"junior\", \"jury\", \"jury\", \"katanga\", \"kennedy\", \"kennedy\", \"khrushchev\", \"knew\", \"knew\", \"knew\", \"knew\", \"knew\", \"know\", \"know\", \"know\", \"know\", \"laos\", \"last\", \"last\", \"last\", \"last\", \"last\", \"left\", \"left\", \"left\", \"left\", \"left\", \"less\", \"less\", \"less\", \"less\", \"less\", \"level\", \"level\", \"level\", \"level\", \"level\", \"lever\", \"lever\", \"limitations\", \"little\", \"little\", \"little\", \"little\", \"little\", \"local\", \"local\", \"local\", \"local\", \"local\", \"location\", \"location\", \"location\", \"look\", \"look\", \"look\", \"look\", \"look\", \"looked\", \"looked\", \"looked\", \"looked\", \"looked\", \"luck\", \"lumber\", \"lumber\", \"lumber\", \"machinery\", \"machinery\", \"machinery\", \"man\", \"man\", \"man\", \"man\", \"man\", \"management\", \"management\", \"management\", \"management\", \"management\", \"market\", \"market\", \"market\", \"market\", \"market\", \"materials\", \"materials\", \"materials\", \"materials\", \"may\", \"may\", \"may\", \"may\", \"may\", \"measurement\", \"measurements\", \"medical\", \"medical\", \"medical\", \"medical\", \"members\", \"members\", \"members\", \"members\", \"members\", \"men\", \"men\", \"men\", \"men\", \"men\", \"million\", \"million\", \"million\", \"million\", \"minimize\", \"minimum\", \"minimum\", \"moscow\", \"mother\", \"mother\", \"motors\", \"mr\", \"mr\", \"mr\", \"mr\", \"mr\", \"mrs\", \"mrs\", \"mrs\", \"mrs\", \"much\", \"much\", \"much\", \"much\", \"much\", \"must\", \"must\", \"must\", \"must\", \"must\", \"name\", \"name\", \"name\", \"name\", \"national\", \"national\", \"national\", \"national\", \"national\", \"nations\", \"never\", \"never\", \"never\", \"never\", \"never\", \"nice\", \"night\", \"night\", \"night\", \"night\", \"night\", \"nuclear\", \"nuclear\", \"number\", \"number\", \"number\", \"number\", \"number\", \"objectives\", \"oil\", \"oil\", \"oil\", \"oil\", \"old\", \"old\", \"old\", \"old\", \"old\", \"operational\", \"oriental\", \"outdoor\", \"outdoor\", \"outdoor\", \"outdoor\", \"painted\", \"painted\", \"painted\", \"painter\", \"painter\", \"pair\", \"palace\", \"palace\", \"panels\", \"panels\", \"party\", \"party\", \"party\", \"party\", \"patterned\", \"payment\", \"payment\", \"payroll\", \"peace\", \"peace\", \"peace\", \"pension\", \"people\", \"people\", \"people\", \"people\", \"people\", \"per\", \"per\", \"per\", \"per\", \"pieces\", \"pieces\", \"pieces\", \"pieces\", \"pink\", \"pittsburgh\", \"plan\", \"plan\", \"plan\", \"plan\", \"plan\", \"planning\", \"planning\", \"planning\", \"planning\", \"plastic\", \"plastic\", \"player\", \"police\", \"police\", \"political\", \"political\", \"political\", \"pool\", \"pool\", \"pool\", \"pool\", \"pool\", \"premier\", \"president\", \"president\", \"president\", \"president\", \"president\", \"production\", \"production\", \"production\", \"production\", \"production\", \"program\", \"program\", \"program\", \"property\", \"property\", \"property\", \"property\", \"public\", \"public\", \"public\", \"public\", \"public\", \"puerto\", \"purposes\", \"purposes\", \"purposes\", \"purposes\", \"quantity\", \"question\", \"question\", \"question\", \"question\", \"rain\", \"rated\", \"ratio\", \"rayburn\", \"recreation\", \"recreation\", \"respectively\", \"retail\", \"retail\", \"rhode\", \"rhode\", \"rhode\", \"rhode\", \"rico\", \"right\", \"right\", \"right\", \"right\", \"right\", \"roof\", \"roof\", \"roof\", \"room\", \"room\", \"room\", \"room\", \"ruling\", \"runs\", \"runs\", \"russia\", \"russian\", \"said\", \"said\", \"said\", \"said\", \"said\", \"sales\", \"sales\", \"sales\", \"sales\", \"salt\", \"salt\", \"salt\", \"sat\", \"sat\", \"school\", \"school\", \"school\", \"school\", \"school\", \"schools\", \"schools\", \"schools\", \"schools\", \"section\", \"section\", \"section\", \"section\", \"section\", \"see\", \"see\", \"see\", \"see\", \"see\", \"seemed\", \"seemed\", \"seemed\", \"service\", \"service\", \"service\", \"service\", \"service\", \"shall\", \"shall\", \"shall\", \"shall\", \"shares\", \"shares\", \"shares\", \"shelter\", \"shelter\", \"shoes\", \"side\", \"side\", \"side\", \"side\", \"side\", \"sign\", \"sign\", \"sign\", \"sign\", \"sign\", \"signs\", \"signs\", \"signs\", \"site\", \"site\", \"site\", \"small\", \"small\", \"small\", \"small\", \"small\", \"smiled\", \"something\", \"something\", \"something\", \"soviet\", \"speaker\", \"speaker\", \"spice\", \"spokesman\", \"state\", \"state\", \"state\", \"state\", \"state\", \"states\", \"states\", \"states\", \"states\", \"states\", \"stations\", \"stations\", \"still\", \"still\", \"still\", \"still\", \"still\", \"stock\", \"stock\", \"stock\", \"stock\", \"stock\", \"stockholders\", \"stocks\", \"stocks\", \"straight\", \"straight\", \"student\", \"student\", \"student\", \"student\", \"students\", \"students\", \"students\", \"sun\", \"sun\", \"sun\", \"superintendent\", \"susan\", \"system\", \"system\", \"system\", \"system\", \"system\", \"take\", \"take\", \"take\", \"take\", \"take\", \"tax\", \"tax\", \"tax\", \"teachers\", \"teachers\", \"team\", \"team\", \"team\", \"team\", \"temple\", \"temple\", \"texas\", \"texas\", \"texas\", \"texas\", \"textile\", \"textile\", \"textile\", \"thereof\", \"thickness\", \"thought\", \"thought\", \"thought\", \"thought\", \"thought\", \"three\", \"three\", \"three\", \"three\", \"three\", \"tiny\", \"today\", \"today\", \"today\", \"today\", \"today\", \"tool\", \"tool\", \"tool\", \"towns\", \"towns\", \"towns\", \"towns\", \"traffic\", \"traffic\", \"traffic\", \"traffic\", \"transport\", \"trust\", \"trust\", \"turned\", \"turned\", \"turned\", \"united\", \"united\", \"united\", \"united\", \"university\", \"university\", \"university\", \"university\", \"university\", \"us\", \"us\", \"us\", \"us\", \"us\", \"use\", \"use\", \"use\", \"use\", \"use\", \"used\", \"used\", \"used\", \"used\", \"used\", \"vernon\", \"waited\", \"walked\", \"walked\", \"wall\", \"wall\", \"wall\", \"wall\", \"wall\", \"war\", \"war\", \"war\", \"war\", \"war\", \"water\", \"water\", \"water\", \"water\", \"water\", \"way\", \"way\", \"way\", \"way\", \"way\", \"week\", \"week\", \"week\", \"week\", \"week\", \"went\", \"went\", \"went\", \"went\", \"west\", \"west\", \"west\", \"west\", \"west\", \"wildlife\", \"woman\", \"woman\", \"work\", \"work\", \"work\", \"work\", \"work\", \"world\", \"world\", \"world\", \"world\", \"world\", \"yankees\", \"yards\"]}, \"R\": 30, \"lambda.step\": 0.01, \"plot.opts\": {\"xlab\": \"PC1\", \"ylab\": \"PC2\"}, \"topic.order\": [1, 2, 3, 4, 5]};\n",
       "\n",
       "function LDAvis_load_lib(url, callback){\n",
       "  var s = document.createElement('script');\n",
       "  s.src = url;\n",
       "  s.async = true;\n",
       "  s.onreadystatechange = s.onload = callback;\n",
       "  s.onerror = function(){console.warn(\"failed to load library \" + url);};\n",
       "  document.getElementsByTagName(\"head\")[0].appendChild(s);\n",
       "}\n",
       "\n",
       "if(typeof(LDAvis) !== \"undefined\"){\n",
       "   // already loaded: just create the visualization\n",
       "   !function(LDAvis){\n",
       "       new LDAvis(\"#\" + \"ldavis_el257812983191248293593161\", ldavis_el257812983191248293593161_data);\n",
       "   }(LDAvis);\n",
       "}else if(typeof define === \"function\" && define.amd){\n",
       "   // require.js is available: use it to load d3/LDAvis\n",
       "   require.config({paths: {d3: \"https://d3js.org/d3.v5\"}});\n",
       "   require([\"d3\"], function(d3){\n",
       "      window.d3 = d3;\n",
       "      LDAvis_load_lib(\"https://cdn.jsdelivr.net/gh/bmabey/pyLDAvis@3.4.0/pyLDAvis/js/ldavis.v3.0.0.js\", function(){\n",
       "        new LDAvis(\"#\" + \"ldavis_el257812983191248293593161\", ldavis_el257812983191248293593161_data);\n",
       "      });\n",
       "    });\n",
       "}else{\n",
       "    // require.js not available: dynamically load d3 & LDAvis\n",
       "    LDAvis_load_lib(\"https://d3js.org/d3.v5.js\", function(){\n",
       "         LDAvis_load_lib(\"https://cdn.jsdelivr.net/gh/bmabey/pyLDAvis@3.4.0/pyLDAvis/js/ldavis.v3.0.0.js\", function(){\n",
       "                 new LDAvis(\"#\" + \"ldavis_el257812983191248293593161\", ldavis_el257812983191248293593161_data);\n",
       "            })\n",
       "         });\n",
       "}\n",
       "</script>"
      ],
      "text/plain": [
       "<IPython.core.display.HTML object>"
      ]
     },
     "execution_count": 33,
     "metadata": {},
     "output_type": "execute_result"
    }
   ],
   "source": [
    "pyLDAvis.display(lda_display)"
   ]
  },
  {
   "attachments": {},
   "cell_type": "markdown",
   "id": "a3d14c87",
   "metadata": {},
   "source": [
    "Q: What conclusions do you draw from the visualization above? Please address the principal component scatterplot and the salient terms graph.\n",
    "\n",
    "A: There is some overlap between topic 3 and topic 4, which mean they share some common theme and terms such as government and states which could be the government and news similaries we've seen in other models.  The salient terms graph displays the most frequent terms, which for these documents were narrative words such as said and state.\n"
   ]
  }
 ],
 "metadata": {
  "kernelspec": {
   "display_name": "Python 3 (ipykernel)",
   "language": "python",
   "name": "python3"
  },
  "language_info": {
   "codemirror_mode": {
    "name": "ipython",
    "version": 3
   },
   "file_extension": ".py",
   "mimetype": "text/x-python",
   "name": "python",
   "nbconvert_exporter": "python",
   "pygments_lexer": "ipython3",
   "version": "3.11.7"
  }
 },
 "nbformat": 4,
 "nbformat_minor": 5
}
